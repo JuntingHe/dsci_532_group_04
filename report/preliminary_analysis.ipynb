{
 "cells": [
  {
   "cell_type": "code",
   "execution_count": 131,
   "metadata": {},
   "outputs": [],
   "source": [
    "import pandas as pd\n",
    "import altair as alt\n",
    "import pycountry as pc\n",
    "from pycountry_convert import (\n",
    "    country_alpha2_to_continent_code,\n",
    "    country_alpha3_to_country_alpha2,\n",
    "    country_name_to_country_alpha2\n",
    ")"
   ]
  },
  {
   "cell_type": "markdown",
   "metadata": {},
   "source": [
    "# Dataset preparation"
   ]
  },
  {
   "cell_type": "code",
   "execution_count": 132,
   "metadata": {},
   "outputs": [],
   "source": [
    "dataset_df = pd.read_csv(\"../data/Life Expectancy Data.csv\")"
   ]
  },
  {
   "cell_type": "code",
   "execution_count": 133,
   "metadata": {},
   "outputs": [],
   "source": [
    "dataset_df=dataset_df.copy()\n",
    "dataset_df.loc[dataset_df[\"country\"] == \"Bolivia (Plurinational State of)\", \"country\"] = \"Bolivia, Plurinational State of\"\n",
    "dataset_df.loc[dataset_df[\"country\"] == \"Iran (Islamic Republic of)\", \"country\"] = \"Iran, Islamic Republic of\"\n",
    "dataset_df.loc[dataset_df[\"country\"] == \"Micronesia (Federated States of)\", \"country\"] = \"Micronesia, Federated States of\"\n",
    "dataset_df.loc[dataset_df[\"country\"] == \"Republic of Korea\", \"country\"] = \"Korea, Republic of\"\n",
    "dataset_df.loc[dataset_df[\"country\"] == \"The former Yugoslav republic of Macedonia\", \"country\"] = \"North Macedonia\"\n",
    "dataset_df.loc[dataset_df[\"country\"] == \"Venezuela (Bolivarian Republic of)\", \"country\"] = \"Venezuela, Bolivarian Republic of\"\n",
    "continent = []\n",
    "continent_map = {\n",
    "    \"AS\": \"Asia\",\n",
    "    \"EU\": \"Europe\",\n",
    "    \"AF\": \"Africa\",\n",
    "    \"NA\": \"North America\",\n",
    "    \"SA\": \"South America\",\n",
    "    \"OC\": \"Oceania\",\n",
    "}\n",
    "for c in dataset_df.country.tolist():\n",
    "    if country_name_to_country_alpha2(c) == \"TL\":\n",
    "        continent.append(continent_map[country_alpha2_to_continent_code(\"TP\")])\n",
    "    else:\n",
    "        continent.append(continent_map[country_alpha2_to_continent_code(country_name_to_country_alpha2(c))])\n",
    "continent_df = pd.DataFrame(data={\"country\": dataset_df.country.tolist(), \"continent\": continent})"
   ]
  },
  {
   "cell_type": "code",
   "execution_count": 137,
   "metadata": {},
   "outputs": [],
   "source": [
    "dataset_df = dataset_df.assign(continent = continent_df.continent)"
   ]
  },
  {
   "cell_type": "markdown",
   "metadata": {},
   "source": [
    "# Cards - For Summary"
   ]
  },
  {
   "cell_type": "markdown",
   "metadata": {},
   "source": [
    "## Worldwide"
   ]
  },
  {
   "cell_type": "code",
   "execution_count": 138,
   "metadata": {},
   "outputs": [
    {
     "data": {
      "text/html": [
       "<div>\n",
       "<style scoped>\n",
       "    .dataframe tbody tr th:only-of-type {\n",
       "        vertical-align: middle;\n",
       "    }\n",
       "\n",
       "    .dataframe tbody tr th {\n",
       "        vertical-align: top;\n",
       "    }\n",
       "\n",
       "    .dataframe thead th {\n",
       "        text-align: right;\n",
       "    }\n",
       "</style>\n",
       "<table border=\"1\" class=\"dataframe\">\n",
       "  <thead>\n",
       "    <tr style=\"text-align: right;\">\n",
       "      <th>year</th>\n",
       "      <th>2000</th>\n",
       "      <th>2005</th>\n",
       "      <th>2010</th>\n",
       "      <th>2015</th>\n",
       "      <th>perc_last_5</th>\n",
       "      <th>perc_last_10</th>\n",
       "      <th>perc_last_15</th>\n",
       "    </tr>\n",
       "  </thead>\n",
       "  <tbody>\n",
       "    <tr>\n",
       "      <th>life_expectancy</th>\n",
       "      <td>66.750273</td>\n",
       "      <td>68.20929</td>\n",
       "      <td>70.048634</td>\n",
       "      <td>71.61694</td>\n",
       "      <td>2.238882</td>\n",
       "      <td>4.995874</td>\n",
       "      <td>7.290857</td>\n",
       "    </tr>\n",
       "  </tbody>\n",
       "</table>\n",
       "</div>"
      ],
      "text/plain": [
       "year                  2000      2005       2010      2015  perc_last_5  \\\n",
       "life_expectancy  66.750273  68.20929  70.048634  71.61694     2.238882   \n",
       "\n",
       "year             perc_last_10  perc_last_15  \n",
       "life_expectancy      4.995874      7.290857  "
      ]
     },
     "execution_count": 138,
     "metadata": {},
     "output_type": "execute_result"
    }
   ],
   "source": [
    "temp = dataset_df[dataset_df[\"year\"].isin([2000, 2015, 2010, 2005])]\n",
    "temp = temp.groupby(\"year\").mean()[[\"life_expectancy\"]].T\n",
    "temp = temp.assign(perc_last_5 = (temp[2015] - temp[2010])/temp[2010]*100)\n",
    "temp = temp.assign(perc_last_10 = (temp[2015] - temp[2005])/temp[2005]*100)\n",
    "temp = temp.assign(perc_last_15 = (temp[2015] - temp[2000])/temp[2000]*100)\n",
    "temp"
   ]
  },
  {
   "cell_type": "markdown",
   "metadata": {},
   "source": [
    "## Continent wise"
   ]
  },
  {
   "cell_type": "code",
   "execution_count": 139,
   "metadata": {},
   "outputs": [
    {
     "data": {
      "text/html": [
       "<div>\n",
       "<style scoped>\n",
       "    .dataframe tbody tr th:only-of-type {\n",
       "        vertical-align: middle;\n",
       "    }\n",
       "\n",
       "    .dataframe tbody tr th {\n",
       "        vertical-align: top;\n",
       "    }\n",
       "\n",
       "    .dataframe thead th {\n",
       "        text-align: right;\n",
       "    }\n",
       "</style>\n",
       "<table border=\"1\" class=\"dataframe\">\n",
       "  <thead>\n",
       "    <tr style=\"text-align: right;\">\n",
       "      <th>year</th>\n",
       "      <th>2000</th>\n",
       "      <th>2005</th>\n",
       "      <th>2010</th>\n",
       "      <th>2015</th>\n",
       "      <th>perc_last_5</th>\n",
       "      <th>perc_last_10</th>\n",
       "      <th>perc_last_15</th>\n",
       "    </tr>\n",
       "    <tr>\n",
       "      <th>continent</th>\n",
       "      <th></th>\n",
       "      <th></th>\n",
       "      <th></th>\n",
       "      <th></th>\n",
       "      <th></th>\n",
       "      <th></th>\n",
       "      <th></th>\n",
       "    </tr>\n",
       "  </thead>\n",
       "  <tbody>\n",
       "    <tr>\n",
       "      <th>Africa</th>\n",
       "      <td>54.720370</td>\n",
       "      <td>57.129630</td>\n",
       "      <td>60.075926</td>\n",
       "      <td>62.666667</td>\n",
       "      <td>4.312444</td>\n",
       "      <td>9.692058</td>\n",
       "      <td>14.521642</td>\n",
       "    </tr>\n",
       "    <tr>\n",
       "      <th>Asia</th>\n",
       "      <td>69.044681</td>\n",
       "      <td>70.351064</td>\n",
       "      <td>72.114894</td>\n",
       "      <td>73.185106</td>\n",
       "      <td>1.484038</td>\n",
       "      <td>4.028429</td>\n",
       "      <td>5.996734</td>\n",
       "    </tr>\n",
       "    <tr>\n",
       "      <th>Europe</th>\n",
       "      <td>75.148718</td>\n",
       "      <td>76.458974</td>\n",
       "      <td>78.138462</td>\n",
       "      <td>79.041026</td>\n",
       "      <td>1.155083</td>\n",
       "      <td>3.377041</td>\n",
       "      <td>5.179473</td>\n",
       "    </tr>\n",
       "    <tr>\n",
       "      <th>North America</th>\n",
       "      <td>72.680952</td>\n",
       "      <td>73.076190</td>\n",
       "      <td>73.142857</td>\n",
       "      <td>75.014286</td>\n",
       "      <td>2.558594</td>\n",
       "      <td>2.652157</td>\n",
       "      <td>3.210378</td>\n",
       "    </tr>\n",
       "    <tr>\n",
       "      <th>Oceania</th>\n",
       "      <td>69.420000</td>\n",
       "      <td>70.720000</td>\n",
       "      <td>72.050000</td>\n",
       "      <td>72.160000</td>\n",
       "      <td>0.152672</td>\n",
       "      <td>2.036199</td>\n",
       "      <td>3.946989</td>\n",
       "    </tr>\n",
       "    <tr>\n",
       "      <th>South America</th>\n",
       "      <td>72.000000</td>\n",
       "      <td>72.258333</td>\n",
       "      <td>73.458333</td>\n",
       "      <td>75.225000</td>\n",
       "      <td>2.404991</td>\n",
       "      <td>4.105639</td>\n",
       "      <td>4.479167</td>\n",
       "    </tr>\n",
       "  </tbody>\n",
       "</table>\n",
       "</div>"
      ],
      "text/plain": [
       "year                2000       2005       2010       2015  perc_last_5  \\\n",
       "continent                                                                \n",
       "Africa         54.720370  57.129630  60.075926  62.666667     4.312444   \n",
       "Asia           69.044681  70.351064  72.114894  73.185106     1.484038   \n",
       "Europe         75.148718  76.458974  78.138462  79.041026     1.155083   \n",
       "North America  72.680952  73.076190  73.142857  75.014286     2.558594   \n",
       "Oceania        69.420000  70.720000  72.050000  72.160000     0.152672   \n",
       "South America  72.000000  72.258333  73.458333  75.225000     2.404991   \n",
       "\n",
       "year           perc_last_10  perc_last_15  \n",
       "continent                                  \n",
       "Africa             9.692058     14.521642  \n",
       "Asia               4.028429      5.996734  \n",
       "Europe             3.377041      5.179473  \n",
       "North America      2.652157      3.210378  \n",
       "Oceania            2.036199      3.946989  \n",
       "South America      4.105639      4.479167  "
      ]
     },
     "execution_count": 139,
     "metadata": {},
     "output_type": "execute_result"
    }
   ],
   "source": [
    "temp = dataset_df[dataset_df[\"year\"].isin([2000, 2015, 2010, 2005])]\n",
    "temp = temp.groupby([\"continent\", \"year\"]).mean()[[\"life_expectancy\"]].reset_index()\n",
    "temp = temp.pivot(index=\"continent\", columns=\"year\", values=\"life_expectancy\")\n",
    "temp = temp.assign(perc_last_5 = (temp[2015] - temp[2010])/temp[2010]*100)\n",
    "temp = temp.assign(perc_last_10 = (temp[2015] - temp[2005])/temp[2005]*100)\n",
    "temp = temp.assign(perc_last_15 = (temp[2015] - temp[2000])/temp[2000]*100)\n",
    "temp"
   ]
  },
  {
   "cell_type": "markdown",
   "metadata": {},
   "source": [
    "## By Continent - Trend"
   ]
  },
  {
   "cell_type": "code",
   "execution_count": 140,
   "metadata": {},
   "outputs": [
    {
     "data": {
      "text/html": [
       "<div>\n",
       "<style scoped>\n",
       "    .dataframe tbody tr th:only-of-type {\n",
       "        vertical-align: middle;\n",
       "    }\n",
       "\n",
       "    .dataframe tbody tr th {\n",
       "        vertical-align: top;\n",
       "    }\n",
       "\n",
       "    .dataframe thead th {\n",
       "        text-align: right;\n",
       "    }\n",
       "</style>\n",
       "<table border=\"1\" class=\"dataframe\">\n",
       "  <thead>\n",
       "    <tr style=\"text-align: right;\">\n",
       "      <th>year</th>\n",
       "      <th>2000</th>\n",
       "      <th>2005</th>\n",
       "      <th>2010</th>\n",
       "      <th>2015</th>\n",
       "      <th>perc_last_5</th>\n",
       "      <th>perc_last_10</th>\n",
       "      <th>perc_last_15</th>\n",
       "    </tr>\n",
       "    <tr>\n",
       "      <th>status</th>\n",
       "      <th></th>\n",
       "      <th></th>\n",
       "      <th></th>\n",
       "      <th></th>\n",
       "      <th></th>\n",
       "      <th></th>\n",
       "      <th></th>\n",
       "    </tr>\n",
       "  </thead>\n",
       "  <tbody>\n",
       "    <tr>\n",
       "      <th>Developed</th>\n",
       "      <td>76.803125</td>\n",
       "      <td>78.590625</td>\n",
       "      <td>80.146875</td>\n",
       "      <td>80.709375</td>\n",
       "      <td>0.701836</td>\n",
       "      <td>2.695932</td>\n",
       "      <td>5.086056</td>\n",
       "    </tr>\n",
       "    <tr>\n",
       "      <th>Developing</th>\n",
       "      <td>64.619868</td>\n",
       "      <td>66.009272</td>\n",
       "      <td>67.908609</td>\n",
       "      <td>69.690066</td>\n",
       "      <td>2.623315</td>\n",
       "      <td>5.576178</td>\n",
       "      <td>7.846192</td>\n",
       "    </tr>\n",
       "  </tbody>\n",
       "</table>\n",
       "</div>"
      ],
      "text/plain": [
       "year             2000       2005       2010       2015  perc_last_5  \\\n",
       "status                                                                \n",
       "Developed   76.803125  78.590625  80.146875  80.709375     0.701836   \n",
       "Developing  64.619868  66.009272  67.908609  69.690066     2.623315   \n",
       "\n",
       "year        perc_last_10  perc_last_15  \n",
       "status                                  \n",
       "Developed       2.695932      5.086056  \n",
       "Developing      5.576178      7.846192  "
      ]
     },
     "execution_count": 140,
     "metadata": {},
     "output_type": "execute_result"
    }
   ],
   "source": [
    "temp = dataset_df[dataset_df[\"year\"].isin([2000, 2015, 2010, 2005])]\n",
    "temp = temp.groupby([\"status\", \"year\"]).mean()[[\"life_expectancy\"]].reset_index()\n",
    "temp = temp.pivot(index=\"status\", columns=\"year\", values=\"life_expectancy\")\n",
    "temp = temp.assign(perc_last_5 = (temp[2015] - temp[2010])/temp[2010]*100)\n",
    "temp = temp.assign(perc_last_10 = (temp[2015] - temp[2005])/temp[2005]*100)\n",
    "temp = temp.assign(perc_last_15 = (temp[2015] - temp[2000])/temp[2000]*100)\n",
    "temp"
   ]
  },
  {
   "cell_type": "code",
   "execution_count": 156,
   "metadata": {},
   "outputs": [
    {
     "data": {
      "text/html": [
       "\n",
       "<div id=\"altair-viz-1f1610bd53424fb59ed3e35b2e857b63\"></div>\n",
       "<script type=\"text/javascript\">\n",
       "  (function(spec, embedOpt){\n",
       "    let outputDiv = document.currentScript.previousElementSibling;\n",
       "    if (outputDiv.id !== \"altair-viz-1f1610bd53424fb59ed3e35b2e857b63\") {\n",
       "      outputDiv = document.getElementById(\"altair-viz-1f1610bd53424fb59ed3e35b2e857b63\");\n",
       "    }\n",
       "    const paths = {\n",
       "      \"vega\": \"https://cdn.jsdelivr.net/npm//vega@5?noext\",\n",
       "      \"vega-lib\": \"https://cdn.jsdelivr.net/npm//vega-lib?noext\",\n",
       "      \"vega-lite\": \"https://cdn.jsdelivr.net/npm//vega-lite@4.8.1?noext\",\n",
       "      \"vega-embed\": \"https://cdn.jsdelivr.net/npm//vega-embed@6?noext\",\n",
       "    };\n",
       "\n",
       "    function loadScript(lib) {\n",
       "      return new Promise(function(resolve, reject) {\n",
       "        var s = document.createElement('script');\n",
       "        s.src = paths[lib];\n",
       "        s.async = true;\n",
       "        s.onload = () => resolve(paths[lib]);\n",
       "        s.onerror = () => reject(`Error loading script: ${paths[lib]}`);\n",
       "        document.getElementsByTagName(\"head\")[0].appendChild(s);\n",
       "      });\n",
       "    }\n",
       "\n",
       "    function showError(err) {\n",
       "      outputDiv.innerHTML = `<div class=\"error\" style=\"color:red;\">${err}</div>`;\n",
       "      throw err;\n",
       "    }\n",
       "\n",
       "    function displayChart(vegaEmbed) {\n",
       "      vegaEmbed(outputDiv, spec, embedOpt)\n",
       "        .catch(err => showError(`Javascript Error: ${err.message}<br>This usually means there's a typo in your chart specification. See the javascript console for the full traceback.`));\n",
       "    }\n",
       "\n",
       "    if(typeof define === \"function\" && define.amd) {\n",
       "      requirejs.config({paths});\n",
       "      require([\"vega-embed\"], displayChart, err => showError(`Error loading script: ${err.message}`));\n",
       "    } else if (typeof vegaEmbed === \"function\") {\n",
       "      displayChart(vegaEmbed);\n",
       "    } else {\n",
       "      loadScript(\"vega\")\n",
       "        .then(() => loadScript(\"vega-lite\"))\n",
       "        .then(() => loadScript(\"vega-embed\"))\n",
       "        .catch(showError)\n",
       "        .then(() => displayChart(vegaEmbed));\n",
       "    }\n",
       "  })({\"config\": {\"view\": {\"continuousWidth\": 400, \"continuousHeight\": 300}}, \"data\": {\"name\": \"data-96fed20e65378458803de9809528ebac\"}, \"mark\": \"line\", \"encoding\": {\"color\": {\"type\": \"nominal\", \"field\": \"continent\"}, \"tooltip\": {\"type\": \"nominal\", \"field\": \"continent\"}, \"x\": {\"type\": \"quantitative\", \"field\": \"year\"}, \"y\": {\"type\": \"quantitative\", \"aggregate\": \"sum\", \"field\": \"life_expectancy\", \"scale\": {\"zero\": false}}}, \"$schema\": \"https://vega.github.io/schema/vega-lite/v4.8.1.json\", \"datasets\": {\"data-96fed20e65378458803de9809528ebac\": [{\"continent\": \"Africa\", \"year\": 2000, \"life_expectancy\": 54.72037037037038}, {\"continent\": \"Africa\", \"year\": 2001, \"life_expectancy\": 55.2074074074074}, {\"continent\": \"Africa\", \"year\": 2002, \"life_expectancy\": 55.63148148148148}, {\"continent\": \"Africa\", \"year\": 2003, \"life_expectancy\": 55.5574074074074}, {\"continent\": \"Africa\", \"year\": 2004, \"life_expectancy\": 55.92592592592593}, {\"continent\": \"Africa\", \"year\": 2005, \"life_expectancy\": 57.12962962962962}, {\"continent\": \"Africa\", \"year\": 2006, \"life_expectancy\": 57.40555555555556}, {\"continent\": \"Africa\", \"year\": 2007, \"life_expectancy\": 58.06481481481482}, {\"continent\": \"Africa\", \"year\": 2008, \"life_expectancy\": 59.07222222222221}, {\"continent\": \"Africa\", \"year\": 2009, \"life_expectancy\": 59.83703703703704}, {\"continent\": \"Africa\", \"year\": 2010, \"life_expectancy\": 60.07592592592593}, {\"continent\": \"Africa\", \"year\": 2011, \"life_expectancy\": 60.557407407407425}, {\"continent\": \"Africa\", \"year\": 2012, \"life_expectancy\": 61.37407407407405}, {\"continent\": \"Africa\", \"year\": 2013, \"life_expectancy\": 62.27222222222221}, {\"continent\": \"Africa\", \"year\": 2014, \"life_expectancy\": 62.29259259259259}, {\"continent\": \"Africa\", \"year\": 2015, \"life_expectancy\": 62.66666666666669}, {\"continent\": \"Asia\", \"year\": 2000, \"life_expectancy\": 69.04468085106382}, {\"continent\": \"Asia\", \"year\": 2001, \"life_expectancy\": 69.67659574468085}, {\"continent\": \"Asia\", \"year\": 2002, \"life_expectancy\": 69.55957446808512}, {\"continent\": \"Asia\", \"year\": 2003, \"life_expectancy\": 69.85531914893616}, {\"continent\": \"Asia\", \"year\": 2004, \"life_expectancy\": 70.02127659574467}, {\"continent\": \"Asia\", \"year\": 2005, \"life_expectancy\": 70.35106382978725}, {\"continent\": \"Asia\", \"year\": 2006, \"life_expectancy\": 70.81702127659574}, {\"continent\": \"Asia\", \"year\": 2007, \"life_expectancy\": 71.07234042553192}, {\"continent\": \"Asia\", \"year\": 2008, \"life_expectancy\": 71.2744680851064}, {\"continent\": \"Asia\", \"year\": 2009, \"life_expectancy\": 71.9191489361702}, {\"continent\": \"Asia\", \"year\": 2010, \"life_expectancy\": 72.11489361702127}, {\"continent\": \"Asia\", \"year\": 2011, \"life_expectancy\": 72.29574468085104}, {\"continent\": \"Asia\", \"year\": 2012, \"life_expectancy\": 72.45531914893617}, {\"continent\": \"Asia\", \"year\": 2013, \"life_expectancy\": 72.59361702127657}, {\"continent\": \"Asia\", \"year\": 2014, \"life_expectancy\": 72.87872340425533}, {\"continent\": \"Asia\", \"year\": 2015, \"life_expectancy\": 73.18510638297873}, {\"continent\": \"Europe\", \"year\": 2000, \"life_expectancy\": 75.14871794871794}, {\"continent\": \"Europe\", \"year\": 2001, \"life_expectancy\": 75.49230769230768}, {\"continent\": \"Europe\", \"year\": 2002, \"life_expectancy\": 75.61794871794872}, {\"continent\": \"Europe\", \"year\": 2003, \"life_expectancy\": 75.87179487179488}, {\"continent\": \"Europe\", \"year\": 2004, \"life_expectancy\": 76.26666666666667}, {\"continent\": \"Europe\", \"year\": 2005, \"life_expectancy\": 76.45897435897436}, {\"continent\": \"Europe\", \"year\": 2006, \"life_expectancy\": 77.05128205128206}, {\"continent\": \"Europe\", \"year\": 2007, \"life_expectancy\": 77.46153846153847}, {\"continent\": \"Europe\", \"year\": 2008, \"life_expectancy\": 77.25641025641025}, {\"continent\": \"Europe\", \"year\": 2009, \"life_expectancy\": 77.57179487179485}, {\"continent\": \"Europe\", \"year\": 2010, \"life_expectancy\": 78.13846153846156}, {\"continent\": \"Europe\", \"year\": 2011, \"life_expectancy\": 79.2076923076923}, {\"continent\": \"Europe\", \"year\": 2012, \"life_expectancy\": 79.19999999999999}, {\"continent\": \"Europe\", \"year\": 2013, \"life_expectancy\": 79.2}, {\"continent\": \"Europe\", \"year\": 2014, \"life_expectancy\": 79.91025641025644}, {\"continent\": \"Europe\", \"year\": 2015, \"life_expectancy\": 79.04102564102564}, {\"continent\": \"North America\", \"year\": 2000, \"life_expectancy\": 72.68095238095238}, {\"continent\": \"North America\", \"year\": 2001, \"life_expectancy\": 72.88571428571429}, {\"continent\": \"North America\", \"year\": 2002, \"life_expectancy\": 73.52857142857142}, {\"continent\": \"North America\", \"year\": 2003, \"life_expectancy\": 72.8047619047619}, {\"continent\": \"North America\", \"year\": 2004, \"life_expectancy\": 72.6047619047619}, {\"continent\": \"North America\", \"year\": 2005, \"life_expectancy\": 73.07619047619048}, {\"continent\": \"North America\", \"year\": 2006, \"life_expectancy\": 73.69999999999999}, {\"continent\": \"North America\", \"year\": 2007, \"life_expectancy\": 73.9857142857143}, {\"continent\": \"North America\", \"year\": 2008, \"life_expectancy\": 74.3952380952381}, {\"continent\": \"North America\", \"year\": 2009, \"life_expectancy\": 74.19999999999999}, {\"continent\": \"North America\", \"year\": 2010, \"life_expectancy\": 73.14285714285715}, {\"continent\": \"North America\", \"year\": 2011, \"life_expectancy\": 74.5095238095238}, {\"continent\": \"North America\", \"year\": 2012, \"life_expectancy\": 74.65238095238095}, {\"continent\": \"North America\", \"year\": 2013, \"life_expectancy\": 74.51904761904763}, {\"continent\": \"North America\", \"year\": 2014, \"life_expectancy\": 74.76190476190474}, {\"continent\": \"North America\", \"year\": 2015, \"life_expectancy\": 75.0142857142857}, {\"continent\": \"Oceania\", \"year\": 2000, \"life_expectancy\": 69.41999999999999}, {\"continent\": \"Oceania\", \"year\": 2001, \"life_expectancy\": 69.89}, {\"continent\": \"Oceania\", \"year\": 2002, \"life_expectancy\": 70.03}, {\"continent\": \"Oceania\", \"year\": 2003, \"life_expectancy\": 70.91}, {\"continent\": \"Oceania\", \"year\": 2004, \"life_expectancy\": 70.6}, {\"continent\": \"Oceania\", \"year\": 2005, \"life_expectancy\": 70.72}, {\"continent\": \"Oceania\", \"year\": 2006, \"life_expectancy\": 71.36}, {\"continent\": \"Oceania\", \"year\": 2007, \"life_expectancy\": 71.05}, {\"continent\": \"Oceania\", \"year\": 2008, \"life_expectancy\": 71.4}, {\"continent\": \"Oceania\", \"year\": 2009, \"life_expectancy\": 72.55}, {\"continent\": \"Oceania\", \"year\": 2010, \"life_expectancy\": 72.04999999999998}, {\"continent\": \"Oceania\", \"year\": 2011, \"life_expectancy\": 71.92}, {\"continent\": \"Oceania\", \"year\": 2012, \"life_expectancy\": 71.6}, {\"continent\": \"Oceania\", \"year\": 2013, \"life_expectancy\": 71.8}, {\"continent\": \"Oceania\", \"year\": 2014, \"life_expectancy\": 71.97}, {\"continent\": \"Oceania\", \"year\": 2015, \"life_expectancy\": 72.16}, {\"continent\": \"South America\", \"year\": 2000, \"life_expectancy\": 72.0}, {\"continent\": \"South America\", \"year\": 2001, \"life_expectancy\": 71.24166666666667}, {\"continent\": \"South America\", \"year\": 2002, \"life_expectancy\": 71.53333333333335}, {\"continent\": \"South America\", \"year\": 2003, \"life_expectancy\": 71.66666666666666}, {\"continent\": \"South America\", \"year\": 2004, \"life_expectancy\": 71.93333333333332}, {\"continent\": \"South America\", \"year\": 2005, \"life_expectancy\": 72.25833333333334}, {\"continent\": \"South America\", \"year\": 2006, \"life_expectancy\": 72.63333333333334}, {\"continent\": \"South America\", \"year\": 2007, \"life_expectancy\": 72.70833333333333}, {\"continent\": \"South America\", \"year\": 2008, \"life_expectancy\": 73.01666666666667}, {\"continent\": \"South America\", \"year\": 2009, \"life_expectancy\": 73.19166666666668}, {\"continent\": \"South America\", \"year\": 2010, \"life_expectancy\": 73.45833333333334}, {\"continent\": \"South America\", \"year\": 2011, \"life_expectancy\": 74.05833333333332}, {\"continent\": \"South America\", \"year\": 2012, \"life_expectancy\": 73.80833333333334}, {\"continent\": \"South America\", \"year\": 2013, \"life_expectancy\": 74.15833333333332}, {\"continent\": \"South America\", \"year\": 2014, \"life_expectancy\": 74.65833333333332}, {\"continent\": \"South America\", \"year\": 2015, \"life_expectancy\": 75.22500000000001}]}}, {\"mode\": \"vega-lite\"});\n",
       "</script>"
      ],
      "text/plain": [
       "alt.Chart(...)"
      ]
     },
     "execution_count": 156,
     "metadata": {},
     "output_type": "execute_result"
    }
   ],
   "source": [
    "a = alt.Chart(dataset_df.groupby([\"continent\", \"year\"]).mean()[\"life_expectancy\"].reset_index()).mark_line().encode(\n",
    "    x=\"year\",\n",
    "    y=alt.Y(\"sum(life_expectancy)\",scale=alt.Scale(zero=False)),\n",
    "    color=\"continent\",\n",
    "    tooltip=\"continent\"\n",
    ")\n",
    "a"
   ]
  },
  {
   "cell_type": "markdown",
   "metadata": {},
   "source": [
    "## Country vs same continent vs rest of the world - Trend"
   ]
  },
  {
   "cell_type": "code",
   "execution_count": 230,
   "metadata": {},
   "outputs": [],
   "source": [
    "chosen_country = \"Canada\"\n",
    "sel_continent = dataset_df[dataset_df[\"country\"] == chosen_country].head(1).continent.tolist()[0]"
   ]
  },
  {
   "cell_type": "code",
   "execution_count": 238,
   "metadata": {},
   "outputs": [
    {
     "data": {
      "text/html": [
       "\n",
       "<div id=\"altair-viz-f59039509b684e73a0bf79989e45561b\"></div>\n",
       "<script type=\"text/javascript\">\n",
       "  (function(spec, embedOpt){\n",
       "    let outputDiv = document.currentScript.previousElementSibling;\n",
       "    if (outputDiv.id !== \"altair-viz-f59039509b684e73a0bf79989e45561b\") {\n",
       "      outputDiv = document.getElementById(\"altair-viz-f59039509b684e73a0bf79989e45561b\");\n",
       "    }\n",
       "    const paths = {\n",
       "      \"vega\": \"https://cdn.jsdelivr.net/npm//vega@5?noext\",\n",
       "      \"vega-lib\": \"https://cdn.jsdelivr.net/npm//vega-lib?noext\",\n",
       "      \"vega-lite\": \"https://cdn.jsdelivr.net/npm//vega-lite@4.8.1?noext\",\n",
       "      \"vega-embed\": \"https://cdn.jsdelivr.net/npm//vega-embed@6?noext\",\n",
       "    };\n",
       "\n",
       "    function loadScript(lib) {\n",
       "      return new Promise(function(resolve, reject) {\n",
       "        var s = document.createElement('script');\n",
       "        s.src = paths[lib];\n",
       "        s.async = true;\n",
       "        s.onload = () => resolve(paths[lib]);\n",
       "        s.onerror = () => reject(`Error loading script: ${paths[lib]}`);\n",
       "        document.getElementsByTagName(\"head\")[0].appendChild(s);\n",
       "      });\n",
       "    }\n",
       "\n",
       "    function showError(err) {\n",
       "      outputDiv.innerHTML = `<div class=\"error\" style=\"color:red;\">${err}</div>`;\n",
       "      throw err;\n",
       "    }\n",
       "\n",
       "    function displayChart(vegaEmbed) {\n",
       "      vegaEmbed(outputDiv, spec, embedOpt)\n",
       "        .catch(err => showError(`Javascript Error: ${err.message}<br>This usually means there's a typo in your chart specification. See the javascript console for the full traceback.`));\n",
       "    }\n",
       "\n",
       "    if(typeof define === \"function\" && define.amd) {\n",
       "      requirejs.config({paths});\n",
       "      require([\"vega-embed\"], displayChart, err => showError(`Error loading script: ${err.message}`));\n",
       "    } else if (typeof vegaEmbed === \"function\") {\n",
       "      displayChart(vegaEmbed);\n",
       "    } else {\n",
       "      loadScript(\"vega\")\n",
       "        .then(() => loadScript(\"vega-lite\"))\n",
       "        .then(() => loadScript(\"vega-embed\"))\n",
       "        .catch(showError)\n",
       "        .then(() => displayChart(vegaEmbed));\n",
       "    }\n",
       "  })({\"config\": {\"view\": {\"continuousWidth\": 400, \"continuousHeight\": 300}}, \"data\": {\"name\": \"data-3b4272a2b267525663801b75dac1f0b0\"}, \"mark\": \"line\", \"encoding\": {\"color\": {\"type\": \"nominal\", \"field\": \"label\"}, \"x\": {\"type\": \"quantitative\", \"field\": \"year\"}, \"y\": {\"type\": \"quantitative\", \"field\": \"life_expectancy\"}}, \"$schema\": \"https://vega.github.io/schema/vega-lite/v4.8.1.json\", \"datasets\": {\"data-3b4272a2b267525663801b75dac1f0b0\": [{\"year\": 2000, \"life_expectancy\": 66.75027322404374, \"label\": \"Worldwide\"}, {\"year\": 2001, \"life_expectancy\": 67.1289617486339, \"label\": \"Worldwide\"}, {\"year\": 2002, \"life_expectancy\": 67.35136612021856, \"label\": \"Worldwide\"}, {\"year\": 2003, \"life_expectancy\": 67.43333333333335, \"label\": \"Worldwide\"}, {\"year\": 2004, \"life_expectancy\": 67.64644808743171, \"label\": \"Worldwide\"}, {\"year\": 2005, \"life_expectancy\": 68.20928961748632, \"label\": \"Worldwide\"}, {\"year\": 2006, \"life_expectancy\": 68.66775956284154, \"label\": \"Worldwide\"}, {\"year\": 2007, \"life_expectancy\": 69.03606557377046, \"label\": \"Worldwide\"}, {\"year\": 2008, \"life_expectancy\": 69.42786885245903, \"label\": \"Worldwide\"}, {\"year\": 2009, \"life_expectancy\": 69.93825136612023, \"label\": \"Worldwide\"}, {\"year\": 2010, \"life_expectancy\": 70.0486338797814, \"label\": \"Worldwide\"}, {\"year\": 2011, \"life_expectancy\": 70.65409836065577, \"label\": \"Worldwide\"}, {\"year\": 2012, \"life_expectancy\": 70.91693989071042, \"label\": \"Worldwide\"}, {\"year\": 2013, \"life_expectancy\": 71.23606557377052, \"label\": \"Worldwide\"}, {\"year\": 2014, \"life_expectancy\": 71.53661202185789, \"label\": \"Worldwide\"}, {\"year\": 2015, \"life_expectancy\": 71.61693989071036, \"label\": \"Worldwide\"}, {\"year\": 2000, \"life_expectancy\": 72.68095238095238, \"label\": \"North America\"}, {\"year\": 2001, \"life_expectancy\": 72.88571428571429, \"label\": \"North America\"}, {\"year\": 2002, \"life_expectancy\": 73.52857142857142, \"label\": \"North America\"}, {\"year\": 2003, \"life_expectancy\": 72.8047619047619, \"label\": \"North America\"}, {\"year\": 2004, \"life_expectancy\": 72.6047619047619, \"label\": \"North America\"}, {\"year\": 2005, \"life_expectancy\": 73.07619047619048, \"label\": \"North America\"}, {\"year\": 2006, \"life_expectancy\": 73.69999999999999, \"label\": \"North America\"}, {\"year\": 2007, \"life_expectancy\": 73.9857142857143, \"label\": \"North America\"}, {\"year\": 2008, \"life_expectancy\": 74.3952380952381, \"label\": \"North America\"}, {\"year\": 2009, \"life_expectancy\": 74.19999999999999, \"label\": \"North America\"}, {\"year\": 2010, \"life_expectancy\": 73.14285714285715, \"label\": \"North America\"}, {\"year\": 2011, \"life_expectancy\": 74.5095238095238, \"label\": \"North America\"}, {\"year\": 2012, \"life_expectancy\": 74.65238095238095, \"label\": \"North America\"}, {\"year\": 2013, \"life_expectancy\": 74.51904761904763, \"label\": \"North America\"}, {\"year\": 2014, \"life_expectancy\": 74.76190476190474, \"label\": \"North America\"}, {\"year\": 2015, \"life_expectancy\": 75.0142857142857, \"label\": \"North America\"}, {\"year\": 2015, \"life_expectancy\": 82.2, \"label\": \"Canada\"}, {\"year\": 2014, \"life_expectancy\": 82.0, \"label\": \"Canada\"}, {\"year\": 2013, \"life_expectancy\": 81.8, \"label\": \"Canada\"}, {\"year\": 2012, \"life_expectancy\": 81.6, \"label\": \"Canada\"}, {\"year\": 2011, \"life_expectancy\": 81.5, \"label\": \"Canada\"}, {\"year\": 2010, \"life_expectancy\": 81.2, \"label\": \"Canada\"}, {\"year\": 2009, \"life_expectancy\": 81.0, \"label\": \"Canada\"}, {\"year\": 2008, \"life_expectancy\": 87.0, \"label\": \"Canada\"}, {\"year\": 2007, \"life_expectancy\": 85.0, \"label\": \"Canada\"}, {\"year\": 2006, \"life_expectancy\": 85.0, \"label\": \"Canada\"}, {\"year\": 2005, \"life_expectancy\": 81.0, \"label\": \"Canada\"}, {\"year\": 2004, \"life_expectancy\": 80.0, \"label\": \"Canada\"}, {\"year\": 2003, \"life_expectancy\": 79.7, \"label\": \"Canada\"}, {\"year\": 2002, \"life_expectancy\": 79.5, \"label\": \"Canada\"}, {\"year\": 2001, \"life_expectancy\": 79.4, \"label\": \"Canada\"}, {\"year\": 2000, \"life_expectancy\": 79.1, \"label\": \"Canada\"}]}}, {\"mode\": \"vega-lite\"});\n",
       "</script>"
      ],
      "text/plain": [
       "alt.Chart(...)"
      ]
     },
     "execution_count": 238,
     "metadata": {},
     "output_type": "execute_result"
    }
   ],
   "source": [
    "temp = (\n",
    "    dataset_df.groupby(\"year\")\n",
    "    .mean()[\"life_expectancy\"]\n",
    "    .reset_index()\n",
    "    .assign(label=\"Worldwide\")\n",
    ")\n",
    "temp = pd.concat(\n",
    "    [\n",
    "        temp,\n",
    "        dataset_df[dataset_df[\"continent\"] == sel_continent]\n",
    "        .groupby(\"year\")\n",
    "        .mean()[\"life_expectancy\"]\n",
    "        .reset_index()\n",
    "        .assign(label=sel_continent)\n",
    "    ],\n",
    "    ignore_index=True,\n",
    ")\n",
    "temp = pd.concat(\n",
    "    [\n",
    "        temp,\n",
    "        dataset_df.loc[\n",
    "            dataset_df[\"country\"] == chosen_country, [\"year\", \"life_expectancy\"]\n",
    "        ].assign(label=chosen_country),\n",
    "    ],\n",
    "    ignore_index=True,\n",
    ")\n",
    "alt.Chart(temp).mark_line().encode(\n",
    "    x=\"year\",\n",
    "    y=\"life_expectancy\",\n",
    "    color=\"label\"\n",
    ")"
   ]
  },
  {
   "cell_type": "markdown",
   "metadata": {},
   "source": [
    "## Developed vs Developing"
   ]
  },
  {
   "cell_type": "code",
   "execution_count": 157,
   "metadata": {},
   "outputs": [
    {
     "data": {
      "text/html": [
       "\n",
       "<div id=\"altair-viz-4bb68b5ce34c4ddab44c894d003431fc\"></div>\n",
       "<script type=\"text/javascript\">\n",
       "  (function(spec, embedOpt){\n",
       "    let outputDiv = document.currentScript.previousElementSibling;\n",
       "    if (outputDiv.id !== \"altair-viz-4bb68b5ce34c4ddab44c894d003431fc\") {\n",
       "      outputDiv = document.getElementById(\"altair-viz-4bb68b5ce34c4ddab44c894d003431fc\");\n",
       "    }\n",
       "    const paths = {\n",
       "      \"vega\": \"https://cdn.jsdelivr.net/npm//vega@5?noext\",\n",
       "      \"vega-lib\": \"https://cdn.jsdelivr.net/npm//vega-lib?noext\",\n",
       "      \"vega-lite\": \"https://cdn.jsdelivr.net/npm//vega-lite@4.8.1?noext\",\n",
       "      \"vega-embed\": \"https://cdn.jsdelivr.net/npm//vega-embed@6?noext\",\n",
       "    };\n",
       "\n",
       "    function loadScript(lib) {\n",
       "      return new Promise(function(resolve, reject) {\n",
       "        var s = document.createElement('script');\n",
       "        s.src = paths[lib];\n",
       "        s.async = true;\n",
       "        s.onload = () => resolve(paths[lib]);\n",
       "        s.onerror = () => reject(`Error loading script: ${paths[lib]}`);\n",
       "        document.getElementsByTagName(\"head\")[0].appendChild(s);\n",
       "      });\n",
       "    }\n",
       "\n",
       "    function showError(err) {\n",
       "      outputDiv.innerHTML = `<div class=\"error\" style=\"color:red;\">${err}</div>`;\n",
       "      throw err;\n",
       "    }\n",
       "\n",
       "    function displayChart(vegaEmbed) {\n",
       "      vegaEmbed(outputDiv, spec, embedOpt)\n",
       "        .catch(err => showError(`Javascript Error: ${err.message}<br>This usually means there's a typo in your chart specification. See the javascript console for the full traceback.`));\n",
       "    }\n",
       "\n",
       "    if(typeof define === \"function\" && define.amd) {\n",
       "      requirejs.config({paths});\n",
       "      require([\"vega-embed\"], displayChart, err => showError(`Error loading script: ${err.message}`));\n",
       "    } else if (typeof vegaEmbed === \"function\") {\n",
       "      displayChart(vegaEmbed);\n",
       "    } else {\n",
       "      loadScript(\"vega\")\n",
       "        .then(() => loadScript(\"vega-lite\"))\n",
       "        .then(() => loadScript(\"vega-embed\"))\n",
       "        .catch(showError)\n",
       "        .then(() => displayChart(vegaEmbed));\n",
       "    }\n",
       "  })({\"config\": {\"view\": {\"continuousWidth\": 400, \"continuousHeight\": 300}}, \"data\": {\"name\": \"data-02ce0053a4ba2a8371c3157b3a2160f7\"}, \"mark\": \"line\", \"encoding\": {\"color\": {\"type\": \"nominal\", \"field\": \"status\"}, \"tooltip\": {\"type\": \"nominal\", \"field\": \"status\"}, \"x\": {\"type\": \"quantitative\", \"field\": \"year\"}, \"y\": {\"type\": \"quantitative\", \"aggregate\": \"sum\", \"field\": \"life_expectancy\", \"scale\": {\"zero\": false}}}, \"$schema\": \"https://vega.github.io/schema/vega-lite/v4.8.1.json\", \"datasets\": {\"data-02ce0053a4ba2a8371c3157b3a2160f7\": [{\"status\": \"Developed\", \"year\": 2000, \"life_expectancy\": 76.803125}, {\"status\": \"Developed\", \"year\": 2001, \"life_expectancy\": 77.12812500000001}, {\"status\": \"Developed\", \"year\": 2002, \"life_expectancy\": 77.54687500000001}, {\"status\": \"Developed\", \"year\": 2003, \"life_expectancy\": 77.940625}, {\"status\": \"Developed\", \"year\": 2004, \"life_expectancy\": 78.384375}, {\"status\": \"Developed\", \"year\": 2005, \"life_expectancy\": 78.590625}, {\"status\": \"Developed\", \"year\": 2006, \"life_expectancy\": 79.13125000000002}, {\"status\": \"Developed\", \"year\": 2007, \"life_expectancy\": 79.29999999999998}, {\"status\": \"Developed\", \"year\": 2008, \"life_expectancy\": 78.93124999999999}, {\"status\": \"Developed\", \"year\": 2009, \"life_expectancy\": 79.584375}, {\"status\": \"Developed\", \"year\": 2010, \"life_expectancy\": 80.14687500000001}, {\"status\": \"Developed\", \"year\": 2011, \"life_expectancy\": 80.70624999999998}, {\"status\": \"Developed\", \"year\": 2012, \"life_expectancy\": 80.44375}, {\"status\": \"Developed\", \"year\": 2013, \"life_expectancy\": 80.68125}, {\"status\": \"Developed\", \"year\": 2014, \"life_expectancy\": 81.1375}, {\"status\": \"Developed\", \"year\": 2015, \"life_expectancy\": 80.709375}, {\"status\": \"Developing\", \"year\": 2000, \"life_expectancy\": 64.61986754966892}, {\"status\": \"Developing\", \"year\": 2001, \"life_expectancy\": 65.00993377483448}, {\"status\": \"Developing\", \"year\": 2002, \"life_expectancy\": 65.19072847682116}, {\"status\": \"Developing\", \"year\": 2003, \"life_expectancy\": 65.20662251655632}, {\"status\": \"Developing\", \"year\": 2004, \"life_expectancy\": 65.3708609271523}, {\"status\": \"Developing\", \"year\": 2005, \"life_expectancy\": 66.00927152317881}, {\"status\": \"Developing\", \"year\": 2006, \"life_expectancy\": 66.45033112582783}, {\"status\": \"Developing\", \"year\": 2007, \"life_expectancy\": 66.86092715231786}, {\"status\": \"Developing\", \"year\": 2008, \"life_expectancy\": 67.41390728476821}, {\"status\": \"Developing\", \"year\": 2009, \"life_expectancy\": 67.89403973509935}, {\"status\": \"Developing\", \"year\": 2010, \"life_expectancy\": 67.90860927152318}, {\"status\": \"Developing\", \"year\": 2011, \"life_expectancy\": 68.52384105960265}, {\"status\": \"Developing\", \"year\": 2012, \"life_expectancy\": 68.89801324503314}, {\"status\": \"Developing\", \"year\": 2013, \"life_expectancy\": 69.23443708609274}, {\"status\": \"Developing\", \"year\": 2014, \"life_expectancy\": 69.50198675496686}, {\"status\": \"Developing\", \"year\": 2015, \"life_expectancy\": 69.69006622516555}]}}, {\"mode\": \"vega-lite\"});\n",
       "</script>"
      ],
      "text/plain": [
       "alt.Chart(...)"
      ]
     },
     "execution_count": 157,
     "metadata": {},
     "output_type": "execute_result"
    }
   ],
   "source": [
    "b = alt.Chart(dataset_df.groupby([\"status\", \"year\"]).mean()[\"life_expectancy\"].reset_index()).mark_line().encode(\n",
    "    x=\"year\",\n",
    "    y=alt.Y(\"sum(life_expectancy)\",scale=alt.Scale(zero=False)),\n",
    "    color=\"status\",\n",
    "    tooltip=\"status\"\n",
    ")\n",
    "b"
   ]
  },
  {
   "cell_type": "markdown",
   "metadata": {},
   "source": [
    "## Effect of other factors"
   ]
  },
  {
   "cell_type": "code",
   "execution_count": 206,
   "metadata": {},
   "outputs": [
    {
     "data": {
      "text/html": [
       "\n",
       "<div id=\"altair-viz-a546642016a84b52bd04fc26d246610b\"></div>\n",
       "<script type=\"text/javascript\">\n",
       "  (function(spec, embedOpt){\n",
       "    let outputDiv = document.currentScript.previousElementSibling;\n",
       "    if (outputDiv.id !== \"altair-viz-a546642016a84b52bd04fc26d246610b\") {\n",
       "      outputDiv = document.getElementById(\"altair-viz-a546642016a84b52bd04fc26d246610b\");\n",
       "    }\n",
       "    const paths = {\n",
       "      \"vega\": \"https://cdn.jsdelivr.net/npm//vega@5?noext\",\n",
       "      \"vega-lib\": \"https://cdn.jsdelivr.net/npm//vega-lib?noext\",\n",
       "      \"vega-lite\": \"https://cdn.jsdelivr.net/npm//vega-lite@4.8.1?noext\",\n",
       "      \"vega-embed\": \"https://cdn.jsdelivr.net/npm//vega-embed@6?noext\",\n",
       "    };\n",
       "\n",
       "    function loadScript(lib) {\n",
       "      return new Promise(function(resolve, reject) {\n",
       "        var s = document.createElement('script');\n",
       "        s.src = paths[lib];\n",
       "        s.async = true;\n",
       "        s.onload = () => resolve(paths[lib]);\n",
       "        s.onerror = () => reject(`Error loading script: ${paths[lib]}`);\n",
       "        document.getElementsByTagName(\"head\")[0].appendChild(s);\n",
       "      });\n",
       "    }\n",
       "\n",
       "    function showError(err) {\n",
       "      outputDiv.innerHTML = `<div class=\"error\" style=\"color:red;\">${err}</div>`;\n",
       "      throw err;\n",
       "    }\n",
       "\n",
       "    function displayChart(vegaEmbed) {\n",
       "      vegaEmbed(outputDiv, spec, embedOpt)\n",
       "        .catch(err => showError(`Javascript Error: ${err.message}<br>This usually means there's a typo in your chart specification. See the javascript console for the full traceback.`));\n",
       "    }\n",
       "\n",
       "    if(typeof define === \"function\" && define.amd) {\n",
       "      requirejs.config({paths});\n",
       "      require([\"vega-embed\"], displayChart, err => showError(`Error loading script: ${err.message}`));\n",
       "    } else if (typeof vegaEmbed === \"function\") {\n",
       "      displayChart(vegaEmbed);\n",
       "    } else {\n",
       "      loadScript(\"vega\")\n",
       "        .then(() => loadScript(\"vega-lite\"))\n",
       "        .then(() => loadScript(\"vega-embed\"))\n",
       "        .catch(showError)\n",
       "        .then(() => displayChart(vegaEmbed));\n",
       "    }\n",
       "  })({\"config\": {\"view\": {\"continuousWidth\": 400, \"continuousHeight\": 300}}, \"data\": {\"name\": \"data-94daa7f286d9bd8b9b5827015b8d1c32\"}, \"mark\": \"circle\", \"encoding\": {\"color\": {\"type\": \"nominal\", \"field\": \"continent\"}, \"size\": {\"type\": \"quantitative\", \"field\": \"population\", \"scale\": {\"range\": [10, 1000]}}, \"tooltip\": {\"type\": \"nominal\", \"field\": \"country\"}, \"x\": {\"type\": \"quantitative\", \"field\": \"hiv_aids\"}, \"y\": {\"type\": \"quantitative\", \"field\": \"life_expectancy\", \"title\": \"Life Expectancy\"}}, \"$schema\": \"https://vega.github.io/schema/vega-lite/v4.8.1.json\", \"datasets\": {\"data-94daa7f286d9bd8b9b5827015b8d1c32\": [{\"country\": \"Afghanistan\", \"year\": 2013, \"status\": \"Developing\", \"life_expectancy\": 59.9, \"adult_mortality\": 268.0, \"infant_deaths\": 66, \"alcohol\": 0.01, \"percentage_expenditure\": 73.21924272, \"hepatitis_B\": 64.0, \"measles\": 430, \"BMI\": 18.1, \"under_five_deaths\": 89, \"polio\": 62.0, \"total_expenditure\": 8.13, \"diphtheria\": 64.0, \"hiv_aids\": 0.1, \"gdp\": 631.744976, \"population\": 31731688.0, \"thinness_1_19_years\": 17.7, \"thinness_5_9_years\": 17.7, \"income_composition_of_resources\": 0.47, \"schooling\": 9.9, \"continent\": \"Asia\"}, {\"country\": \"Albania\", \"year\": 2013, \"status\": \"Developing\", \"life_expectancy\": 77.2, \"adult_mortality\": 84.0, \"infant_deaths\": 0, \"alcohol\": 4.76, \"percentage_expenditure\": 430.8769785, \"hepatitis_B\": 99.0, \"measles\": 0, \"BMI\": 56.5, \"under_five_deaths\": 1, \"polio\": 99.0, \"total_expenditure\": 5.66, \"diphtheria\": 99.0, \"hiv_aids\": 0.1, \"gdp\": 4414.72314, \"population\": 289592.0, \"thinness_1_19_years\": 1.3, \"thinness_5_9_years\": 1.4, \"income_composition_of_resources\": 0.759, \"schooling\": 14.2, \"continent\": \"Europe\"}, {\"country\": \"Algeria\", \"year\": 2013, \"status\": \"Developing\", \"life_expectancy\": 75.3, \"adult_mortality\": 112.0, \"infant_deaths\": 21, \"alcohol\": 0.53, \"percentage_expenditure\": 544.4507432, \"hepatitis_B\": 95.0, \"measles\": 25, \"BMI\": 57.2, \"under_five_deaths\": 24, \"polio\": 95.0, \"total_expenditure\": 7.12, \"diphtheria\": 95.0, \"hiv_aids\": 0.1, \"gdp\": 5471.866765999999, \"population\": 38338562.0, \"thinness_1_19_years\": 5.9, \"thinness_5_9_years\": 5.8, \"income_composition_of_resources\": 0.737, \"schooling\": 14.4, \"continent\": \"Africa\"}, {\"country\": \"Angola\", \"year\": 2013, \"status\": \"Developing\", \"life_expectancy\": 51.1, \"adult_mortality\": 355.0, \"infant_deaths\": 69, \"alcohol\": 8.1, \"percentage_expenditure\": 35.95857279, \"hepatitis_B\": 77.0, \"measles\": 8523, \"BMI\": 22.1, \"under_five_deaths\": 105, \"polio\": 67.0, \"total_expenditure\": 4.26, \"diphtheria\": 77.0, \"hiv_aids\": 2.3, \"gdp\": 484.61688399999997, \"population\": 2599834.0, \"thinness_1_19_years\": 8.6, \"thinness_5_9_years\": 8.5, \"income_composition_of_resources\": 0.523, \"schooling\": 11.4, \"continent\": \"Africa\"}, {\"country\": \"Antigua and Barbuda\", \"year\": 2013, \"status\": \"Developing\", \"life_expectancy\": 76.1, \"adult_mortality\": 133.0, \"infant_deaths\": 0, \"alcohol\": 8.58, \"percentage_expenditure\": 1991.4303719999998, \"hepatitis_B\": 99.0, \"measles\": 0, \"BMI\": 46.4, \"under_five_deaths\": 0, \"polio\": 98.0, \"total_expenditure\": 5.33, \"diphtheria\": 99.0, \"hiv_aids\": 0.2, \"gdp\": 12224.86416, \"population\": null, \"thinness_1_19_years\": 3.3, \"thinness_5_9_years\": 3.3, \"income_composition_of_resources\": 0.7809999999999999, \"schooling\": 13.9, \"continent\": \"North America\"}, {\"country\": \"Argentina\", \"year\": 2013, \"status\": \"Developing\", \"life_expectancy\": 76.0, \"adult_mortality\": 119.0, \"infant_deaths\": 8, \"alcohol\": 8.28, \"percentage_expenditure\": 1001.796332, \"hepatitis_B\": 94.0, \"measles\": 0, \"BMI\": 61.6, \"under_five_deaths\": 10, \"polio\": 99.0, \"total_expenditure\": 4.99, \"diphtheria\": 94.0, \"hiv_aids\": 0.1, \"gdp\": 12976.63642, \"population\": 42539925.0, \"thinness_1_19_years\": 1.0, \"thinness_5_9_years\": 0.9, \"income_composition_of_resources\": 0.823, \"schooling\": 17.3, \"continent\": \"South America\"}, {\"country\": \"Armenia\", \"year\": 2013, \"status\": \"Developing\", \"life_expectancy\": 74.4, \"adult_mortality\": 123.0, \"infant_deaths\": 1, \"alcohol\": 3.79, \"percentage_expenditure\": 279.4290812, \"hepatitis_B\": 95.0, \"measles\": 10, \"BMI\": 53.3, \"under_five_deaths\": 1, \"polio\": 96.0, \"total_expenditure\": 4.55, \"diphtheria\": 95.0, \"hiv_aids\": 0.1, \"gdp\": 3843.591213, \"population\": 289359.0, \"thinness_1_19_years\": 2.1, \"thinness_5_9_years\": 2.1, \"income_composition_of_resources\": 0.736, \"schooling\": 12.7, \"continent\": \"Asia\"}, {\"country\": \"Australia\", \"year\": 2013, \"status\": \"Developed\", \"life_expectancy\": 82.5, \"adult_mortality\": 61.0, \"infant_deaths\": 1, \"alcohol\": 9.87, \"percentage_expenditure\": 11734.853809999999, \"hepatitis_B\": 91.0, \"measles\": 158, \"BMI\": 65.5, \"under_five_deaths\": 1, \"polio\": 91.0, \"total_expenditure\": 9.36, \"diphtheria\": 91.0, \"hiv_aids\": 0.1, \"gdp\": 67792.3386, \"population\": 23117353.0, \"thinness_1_19_years\": 0.6, \"thinness_5_9_years\": 0.6, \"income_composition_of_resources\": 0.9329999999999999, \"schooling\": 20.3, \"continent\": \"Oceania\"}, {\"country\": \"Austria\", \"year\": 2013, \"status\": \"Developed\", \"life_expectancy\": 81.1, \"adult_mortality\": 68.0, \"infant_deaths\": 0, \"alcohol\": 11.82, \"percentage_expenditure\": 90.58501176, \"hepatitis_B\": 95.0, \"measles\": 0, \"BMI\": 56.6, \"under_five_deaths\": 0, \"polio\": 95.0, \"total_expenditure\": 11.14, \"diphtheria\": 95.0, \"hiv_aids\": 0.1, \"gdp\": 554.71532, \"population\": 8479375.0, \"thinness_1_19_years\": 1.8, \"thinness_5_9_years\": 2.0, \"income_composition_of_resources\": 0.887, \"schooling\": 15.7, \"continent\": \"Europe\"}, {\"country\": \"Azerbaijan\", \"year\": 2013, \"status\": \"Developing\", \"life_expectancy\": 72.2, \"adult_mortality\": 121.0, \"infant_deaths\": 5, \"alcohol\": 2.14, \"percentage_expenditure\": 275.6514934, \"hepatitis_B\": 93.0, \"measles\": 164, \"BMI\": 5.6, \"under_five_deaths\": 6, \"polio\": 96.0, \"total_expenditure\": 5.54, \"diphtheria\": 93.0, \"hiv_aids\": 0.1, \"gdp\": 7875.756953, \"population\": 941681.0, \"thinness_1_19_years\": 2.8, \"thinness_5_9_years\": 2.8, \"income_composition_of_resources\": 0.745, \"schooling\": 11.9, \"continent\": \"Asia\"}, {\"country\": \"Bahamas\", \"year\": 2013, \"status\": \"Developing\", \"life_expectancy\": 74.8, \"adult_mortality\": 172.0, \"infant_deaths\": 0, \"alcohol\": 9.42, \"percentage_expenditure\": 0.0, \"hepatitis_B\": 97.0, \"measles\": 0, \"BMI\": 63.2, \"under_five_deaths\": 0, \"polio\": 97.0, \"total_expenditure\": 7.5, \"diphtheria\": 97.0, \"hiv_aids\": 0.1, \"gdp\": null, \"population\": null, \"thinness_1_19_years\": 2.5, \"thinness_5_9_years\": 2.5, \"income_composition_of_resources\": 0.79, \"schooling\": 12.6, \"continent\": \"North America\"}, {\"country\": \"Bahrain\", \"year\": 2013, \"status\": \"Developing\", \"life_expectancy\": 76.7, \"adult_mortality\": 7.0, \"infant_deaths\": 0, \"alcohol\": 1.65, \"percentage_expenditure\": 3.968695982, \"hepatitis_B\": 99.0, \"measles\": 0, \"BMI\": 62.2, \"under_five_deaths\": 0, \"polio\": 99.0, \"total_expenditure\": 4.69, \"diphtheria\": 99.0, \"hiv_aids\": 0.1, \"gdp\": 251.18329, \"population\": null, \"thinness_1_19_years\": 6.1, \"thinness_5_9_years\": 6.0, \"income_composition_of_resources\": 0.815, \"schooling\": 14.5, \"continent\": \"Asia\"}, {\"country\": \"Bangladesh\", \"year\": 2013, \"status\": \"Developing\", \"life_expectancy\": 71.0, \"adult_mortality\": 135.0, \"infant_deaths\": 104, \"alcohol\": 0.01, \"percentage_expenditure\": 52.82986467, \"hepatitis_B\": 96.0, \"measles\": 237, \"BMI\": 17.0, \"under_five_deaths\": 130, \"polio\": 96.0, \"total_expenditure\": 2.88, \"diphtheria\": 96.0, \"hiv_aids\": 0.1, \"gdp\": 951.8894535000001, \"population\": 157571292.0, \"thinness_1_19_years\": 18.3, \"thinness_5_9_years\": 18.8, \"income_composition_of_resources\": 0.565, \"schooling\": 10.0, \"continent\": \"Asia\"}, {\"country\": \"Barbados\", \"year\": 2013, \"status\": \"Developing\", \"life_expectancy\": 75.2, \"adult_mortality\": 11.0, \"infant_deaths\": 0, \"alcohol\": 8.74, \"percentage_expenditure\": 263.0372838, \"hepatitis_B\": 91.0, \"measles\": 0, \"BMI\": 53.0, \"under_five_deaths\": 0, \"polio\": 91.0, \"total_expenditure\": 7.57, \"diphtheria\": 91.0, \"hiv_aids\": 0.1, \"gdp\": 15472.7814, \"population\": null, \"thinness_1_19_years\": 3.8, \"thinness_5_9_years\": 3.8, \"income_composition_of_resources\": 0.792, \"schooling\": 15.3, \"continent\": \"North America\"}, {\"country\": \"Belarus\", \"year\": 2013, \"status\": \"Developing\", \"life_expectancy\": 71.7, \"adult_mortality\": 23.0, \"infant_deaths\": 0, \"alcohol\": 14.66, \"percentage_expenditure\": 1109.854619, \"hepatitis_B\": 98.0, \"measles\": 16, \"BMI\": 61.1, \"under_five_deaths\": 1, \"polio\": 98.0, \"total_expenditure\": 6.7, \"diphtheria\": 98.0, \"hiv_aids\": 0.1, \"gdp\": 7978.825443000001, \"population\": 9465997.0, \"thinness_1_19_years\": 2.0, \"thinness_5_9_years\": 2.0, \"income_composition_of_resources\": 0.7959999999999999, \"schooling\": 15.7, \"continent\": \"Europe\"}, {\"country\": \"Belgium\", \"year\": 2013, \"status\": \"Developed\", \"life_expectancy\": 87.0, \"adult_mortality\": 77.0, \"infant_deaths\": 0, \"alcohol\": 11.77, \"percentage_expenditure\": 702.359357, \"hepatitis_B\": 98.0, \"measles\": 39, \"BMI\": 63.0, \"under_five_deaths\": 1, \"polio\": 99.0, \"total_expenditure\": 1.57, \"diphtheria\": 99.0, \"hiv_aids\": 0.1, \"gdp\": 4651.38647, \"population\": 11182817.0, \"thinness_1_19_years\": 1.0, \"thinness_5_9_years\": 0.9, \"income_composition_of_resources\": 0.889, \"schooling\": 16.3, \"continent\": \"Europe\"}, {\"country\": \"Belize\", \"year\": 2013, \"status\": \"Developing\", \"life_expectancy\": 69.8, \"adult_mortality\": 18.0, \"infant_deaths\": 0, \"alcohol\": 6.56, \"percentage_expenditure\": 629.2018591, \"hepatitis_B\": 95.0, \"measles\": 0, \"BMI\": 49.3, \"under_five_deaths\": 0, \"polio\": 95.0, \"total_expenditure\": 5.79, \"diphtheria\": 95.0, \"hiv_aids\": 0.2, \"gdp\": 4688.538443, \"population\": 344181.0, \"thinness_1_19_years\": 3.4, \"thinness_5_9_years\": 3.4, \"income_composition_of_resources\": 0.706, \"schooling\": 12.9, \"continent\": \"North America\"}, {\"country\": \"Benin\", \"year\": 2013, \"status\": \"Developing\", \"life_expectancy\": 59.5, \"adult_mortality\": 251.0, \"infant_deaths\": 25, \"alcohol\": 0.01, \"percentage_expenditure\": 87.40804229999999, \"hepatitis_B\": 77.0, \"measles\": 637, \"BMI\": 24.6, \"under_five_deaths\": 39, \"polio\": 73.0, \"total_expenditure\": 4.59, \"diphtheria\": 77.0, \"hiv_aids\": 1.2, \"gdp\": 915.2674586, \"population\": 14451.0, \"thinness_1_19_years\": 7.2, \"thinness_5_9_years\": 7.1, \"income_composition_of_resources\": 0.466, \"schooling\": 10.3, \"continent\": \"Africa\"}, {\"country\": \"Bhutan\", \"year\": 2013, \"status\": \"Developing\", \"life_expectancy\": 69.1, \"adult_mortality\": 219.0, \"infant_deaths\": 0, \"alcohol\": 0.01, \"percentage_expenditure\": 19.79057439, \"hepatitis_B\": 97.0, \"measles\": 0, \"BMI\": 22.7, \"under_five_deaths\": 1, \"polio\": 97.0, \"total_expenditure\": 3.83, \"diphtheria\": 97.0, \"hiv_aids\": 0.6, \"gdp\": 235.882889, \"population\": 764961.0, \"thinness_1_19_years\": 15.9, \"thinness_5_9_years\": 16.5, \"income_composition_of_resources\": 0.589, \"schooling\": 12.6, \"continent\": \"Asia\"}, {\"country\": \"Bolivia, Plurinational State of\", \"year\": 2013, \"status\": \"Developing\", \"life_expectancy\": 71.0, \"adult_mortality\": 192.0, \"infant_deaths\": 8, \"alcohol\": 3.78, \"percentage_expenditure\": 0.0, \"hepatitis_B\": 94.0, \"measles\": 0, \"BMI\": 51.2, \"under_five_deaths\": 10, \"polio\": 95.0, \"total_expenditure\": 5.96, \"diphtheria\": 94.0, \"hiv_aids\": 0.1, \"gdp\": null, \"population\": null, \"thinness_1_19_years\": 1.2, \"thinness_5_9_years\": 1.1, \"income_composition_of_resources\": 0.6609999999999999, \"schooling\": 13.8, \"continent\": \"South America\"}, {\"country\": \"Bosnia and Herzegovina\", \"year\": 2013, \"status\": \"Developing\", \"life_expectancy\": 77.0, \"adult_mortality\": 9.0, \"infant_deaths\": 0, \"alcohol\": 4.12, \"percentage_expenditure\": 75.61062911, \"hepatitis_B\": 91.0, \"measles\": 0, \"BMI\": 54.7, \"under_five_deaths\": 0, \"polio\": 87.0, \"total_expenditure\": 9.46, \"diphtheria\": 89.0, \"hiv_aids\": 0.1, \"gdp\": 535.86555, \"population\": 364999.0, \"thinness_1_19_years\": 2.4, \"thinness_5_9_years\": 2.4, \"income_composition_of_resources\": 0.735, \"schooling\": 14.2, \"continent\": \"Europe\"}, {\"country\": \"Botswana\", \"year\": 2013, \"status\": \"Developing\", \"life_expectancy\": 64.2, \"adult_mortality\": 286.0, \"infant_deaths\": 2, \"alcohol\": 0.01, \"percentage_expenditure\": 1.117811275, \"hepatitis_B\": 95.0, \"measles\": 1, \"BMI\": 36.8, \"under_five_deaths\": 2, \"polio\": 96.0, \"total_expenditure\": 5.84, \"diphtheria\": 95.0, \"hiv_aids\": 2.8, \"gdp\": 77.625783, \"population\": 212857.0, \"thinness_1_19_years\": 7.0, \"thinness_5_9_years\": 6.7, \"income_composition_of_resources\": 0.693, \"schooling\": 12.6, \"continent\": \"Africa\"}, {\"country\": \"Brazil\", \"year\": 2013, \"status\": \"Developing\", \"life_expectancy\": 74.7, \"adult_mortality\": 146.0, \"infant_deaths\": 46, \"alcohol\": 7.24, \"percentage_expenditure\": 916.2708449999999, \"hepatitis_B\": 96.0, \"measles\": 220, \"BMI\": 54.5, \"under_five_deaths\": 52, \"polio\": 96.0, \"total_expenditure\": 8.48, \"diphtheria\": 97.0, \"hiv_aids\": 0.1, \"gdp\": 12216.9446, \"population\": 2248632.0, \"thinness_1_19_years\": 2.8, \"thinness_5_9_years\": 2.7, \"income_composition_of_resources\": 0.7340000000000001, \"schooling\": 14.2, \"continent\": \"South America\"}, {\"country\": \"Brunei Darussalam\", \"year\": 2013, \"status\": \"Developing\", \"life_expectancy\": 77.1, \"adult_mortality\": 84.0, \"infant_deaths\": 0, \"alcohol\": 0.01, \"percentage_expenditure\": 2845.3064440000003, \"hepatitis_B\": 98.0, \"measles\": 0, \"BMI\": 39.2, \"under_five_deaths\": 0, \"polio\": 99.0, \"total_expenditure\": 2.61, \"diphtheria\": 99.0, \"hiv_aids\": 0.1, \"gdp\": 44597.27968, \"population\": null, \"thinness_1_19_years\": 5.8, \"thinness_5_9_years\": 5.2, \"income_composition_of_resources\": 0.86, \"schooling\": 14.9, \"continent\": \"Asia\"}, {\"country\": \"Bulgaria\", \"year\": 2013, \"status\": \"Developed\", \"life_expectancy\": 74.1, \"adult_mortality\": 14.0, \"infant_deaths\": 1, \"alcohol\": 12.06, \"percentage_expenditure\": 149.65987900000002, \"hepatitis_B\": 95.0, \"measles\": 14, \"BMI\": 64.5, \"under_five_deaths\": 1, \"polio\": 95.0, \"total_expenditure\": 7.93, \"diphtheria\": 95.0, \"hiv_aids\": 0.1, \"gdp\": 7674.86559, \"population\": 7265115.0, \"thinness_1_19_years\": 1.9, \"thinness_5_9_years\": 1.9, \"income_composition_of_resources\": 0.7809999999999999, \"schooling\": 14.4, \"continent\": \"Europe\"}, {\"country\": \"Burkina Faso\", \"year\": 2013, \"status\": \"Developing\", \"life_expectancy\": 59.0, \"adult_mortality\": 27.0, \"infant_deaths\": 40, \"alcohol\": 4.64, \"percentage_expenditure\": 88.97040214, \"hepatitis_B\": 88.0, \"measles\": 375, \"BMI\": 18.2, \"under_five_deaths\": 66, \"polio\": 89.0, \"total_expenditure\": 5.91, \"diphtheria\": 88.0, \"hiv_aids\": 0.7, \"gdp\": 699.452847, \"population\": 1772723.0, \"thinness_1_19_years\": 8.4, \"thinness_5_9_years\": 7.9, \"income_composition_of_resources\": 0.392, \"schooling\": 7.5, \"continent\": \"Africa\"}, {\"country\": \"Burundi\", \"year\": 2013, \"status\": \"Developing\", \"life_expectancy\": 58.6, \"adult_mortality\": 33.0, \"infant_deaths\": 22, \"alcohol\": 0.01, \"percentage_expenditure\": 40.15128458, \"hepatitis_B\": 96.0, \"measles\": 0, \"BMI\": 17.6, \"under_five_deaths\": 32, \"polio\": 96.0, \"total_expenditure\": 8.3, \"diphtheria\": 96.0, \"hiv_aids\": 1.0, \"gdp\": 282.75552519999997, \"population\": 96186.0, \"thinness_1_19_years\": 7.4, \"thinness_5_9_years\": 7.4, \"income_composition_of_resources\": 0.39799999999999996, \"schooling\": 10.5, \"continent\": \"Africa\"}, {\"country\": \"C\\u00f4te d'Ivoire\", \"year\": 2013, \"status\": \"Developing\", \"life_expectancy\": 52.3, \"adult_mortality\": 412.0, \"infant_deaths\": 59, \"alcohol\": 3.15, \"percentage_expenditure\": 0.0, \"hepatitis_B\": 8.0, \"measles\": 48, \"BMI\": 26.8, \"under_five_deaths\": 81, \"polio\": 79.0, \"total_expenditure\": 5.81, \"diphtheria\": 8.0, \"hiv_aids\": 2.4, \"gdp\": null, \"population\": null, \"thinness_1_19_years\": 5.8, \"thinness_5_9_years\": 5.7, \"income_composition_of_resources\": null, \"schooling\": null, \"continent\": \"Africa\"}, {\"country\": \"Cabo Verde\", \"year\": 2013, \"status\": \"Developing\", \"life_expectancy\": 72.8, \"adult_mortality\": 12.0, \"infant_deaths\": 0, \"alcohol\": 0.01, \"percentage_expenditure\": 325.6298627, \"hepatitis_B\": 94.0, \"measles\": 0, \"BMI\": 29.7, \"under_five_deaths\": 0, \"polio\": 93.0, \"total_expenditure\": 4.29, \"diphtheria\": 93.0, \"hiv_aids\": 0.2, \"gdp\": 3558.796314, \"population\": 5216.0, \"thinness_1_19_years\": 6.9, \"thinness_5_9_years\": 6.9, \"income_composition_of_resources\": 0.643, \"schooling\": 13.6, \"continent\": \"Africa\"}, {\"country\": \"Cambodia\", \"year\": 2013, \"status\": \"Developing\", \"life_expectancy\": 67.8, \"adult_mortality\": 183.0, \"infant_deaths\": 11, \"alcohol\": 0.01, \"percentage_expenditure\": 8.758214537999999, \"hepatitis_B\": 83.0, \"measles\": 0, \"BMI\": 18.2, \"under_five_deaths\": 13, \"polio\": 66.0, \"total_expenditure\": 5.93, \"diphtheria\": 83.0, \"hiv_aids\": 0.2, \"gdp\": 128.419568, \"population\": 1522692.0, \"thinness_1_19_years\": 11.0, \"thinness_5_9_years\": 11.1, \"income_composition_of_resources\": 0.546, \"schooling\": 10.8, \"continent\": \"Asia\"}, {\"country\": \"Cameroon\", \"year\": 2013, \"status\": \"Developing\", \"life_expectancy\": 56.4, \"adult_mortality\": 364.0, \"infant_deaths\": 48, \"alcohol\": 0.01, \"percentage_expenditure\": 63.07890158, \"hepatitis_B\": 89.0, \"measles\": 760, \"BMI\": 27.8, \"under_five_deaths\": 73, \"polio\": 88.0, \"total_expenditure\": 4.29, \"diphtheria\": 89.0, \"hiv_aids\": 4.0, \"gdp\": 1365.34419, \"population\": 21655715.0, \"thinness_1_19_years\": 5.8, \"thinness_5_9_years\": 5.8, \"income_composition_of_resources\": 0.501, \"schooling\": 10.4, \"continent\": \"Africa\"}, {\"country\": \"Canada\", \"year\": 2013, \"status\": \"Developing\", \"life_expectancy\": 81.8, \"adult_mortality\": 67.0, \"infant_deaths\": 2, \"alcohol\": 8.2, \"percentage_expenditure\": 9733.228019, \"hepatitis_B\": 55.0, \"measles\": 83, \"BMI\": 65.8, \"under_five_deaths\": 2, \"polio\": 91.0, \"total_expenditure\": 1.67, \"diphtheria\": 91.0, \"hiv_aids\": 0.1, \"gdp\": 52413.72116, \"population\": 35155451.0, \"thinness_1_19_years\": 0.5, \"thinness_5_9_years\": 0.5, \"income_composition_of_resources\": 0.909, \"schooling\": 15.9, \"continent\": \"North America\"}, {\"country\": \"Central African Republic\", \"year\": 2013, \"status\": \"Developing\", \"life_expectancy\": 49.9, \"adult_mortality\": 451.0, \"infant_deaths\": 16, \"alcohol\": 0.01, \"percentage_expenditure\": 52.37766601, \"hepatitis_B\": 23.0, \"measles\": 596, \"BMI\": 21.6, \"under_five_deaths\": 23, \"polio\": 23.0, \"total_expenditure\": 3.82, \"diphtheria\": 23.0, \"hiv_aids\": 5.1, \"gdp\": 337.4849614, \"population\": 4499653.0, \"thinness_1_19_years\": 8.5, \"thinness_5_9_years\": 8.5, \"income_composition_of_resources\": 0.37, \"schooling\": 7.1, \"continent\": \"Africa\"}, {\"country\": \"Chad\", \"year\": 2013, \"status\": \"Developing\", \"life_expectancy\": 52.2, \"adult_mortality\": 366.0, \"infant_deaths\": 46, \"alcohol\": 0.64, \"percentage_expenditure\": 76.52382535, \"hepatitis_B\": 39.0, \"measles\": 226, \"BMI\": 18.2, \"under_five_deaths\": 78, \"polio\": 46.0, \"total_expenditure\": 3.42, \"diphtheria\": 39.0, \"hiv_aids\": 3.1, \"gdp\": 986.13177, \"population\": 13133589.0, \"thinness_1_19_years\": 8.8, \"thinness_5_9_years\": 8.7, \"income_composition_of_resources\": 0.387, \"schooling\": 7.3, \"continent\": \"Africa\"}, {\"country\": \"Chile\", \"year\": 2013, \"status\": \"Developing\", \"life_expectancy\": 81.0, \"adult_mortality\": 84.0, \"infant_deaths\": 2, \"alcohol\": 7.2, \"percentage_expenditure\": 2442.222054, \"hepatitis_B\": 9.0, \"measles\": 0, \"BMI\": 62.5, \"under_five_deaths\": 2, \"polio\": 9.0, \"total_expenditure\": 7.53, \"diphtheria\": 91.0, \"hiv_aids\": 0.1, \"gdp\": 15941.397219999999, \"population\": 17462982.0, \"thinness_1_19_years\": 0.8, \"thinness_5_9_years\": 0.8, \"income_composition_of_resources\": 0.831, \"schooling\": 15.6, \"continent\": \"South America\"}, {\"country\": \"China\", \"year\": 2013, \"status\": \"Developing\", \"life_expectancy\": 75.6, \"adult_mortality\": 88.0, \"infant_deaths\": 185, \"alcohol\": 5.79, \"percentage_expenditure\": 9.955532032, \"hepatitis_B\": 99.0, \"measles\": 26883, \"BMI\": 3.9, \"under_five_deaths\": 216, \"polio\": 99.0, \"total_expenditure\": 5.39, \"diphtheria\": 99.0, \"hiv_aids\": 0.1, \"gdp\": 777.77594, \"population\": 135738.0, \"thinness_1_19_years\": 3.8, \"thinness_5_9_years\": 3.2, \"income_composition_of_resources\": 0.713, \"schooling\": 12.7, \"continent\": \"Asia\"}, {\"country\": \"Colombia\", \"year\": 2013, \"status\": \"Developing\", \"life_expectancy\": 74.4, \"adult_mortality\": 145.0, \"infant_deaths\": 11, \"alcohol\": 4.41, \"percentage_expenditure\": 15.16255482, \"hepatitis_B\": 91.0, \"measles\": 1, \"BMI\": 56.4, \"under_five_deaths\": 13, \"polio\": 91.0, \"total_expenditure\": 6.84, \"diphtheria\": 91.0, \"hiv_aids\": 0.1, \"gdp\": 83.5863, \"population\": 47342981.0, \"thinness_1_19_years\": 2.1, \"thinness_5_9_years\": 1.9, \"income_composition_of_resources\": 0.7120000000000001, \"schooling\": 13.3, \"continent\": \"South America\"}, {\"country\": \"Comoros\", \"year\": 2013, \"status\": \"Developing\", \"life_expectancy\": 62.9, \"adult_mortality\": 233.0, \"infant_deaths\": 1, \"alcohol\": 0.01, \"percentage_expenditure\": 61.57443584, \"hepatitis_B\": 88.0, \"measles\": 0, \"BMI\": 23.2, \"under_five_deaths\": 2, \"polio\": 85.0, \"total_expenditure\": 6.51, \"diphtheria\": 87.0, \"hiv_aids\": 0.8, \"gdp\": 834.341949, \"population\": 7415.0, \"thinness_1_19_years\": 6.8, \"thinness_5_9_years\": 6.6, \"income_composition_of_resources\": 0.49, \"schooling\": 10.9, \"continent\": \"Africa\"}, {\"country\": \"Congo\", \"year\": 2013, \"status\": \"Developing\", \"life_expectancy\": 63.9, \"adult_mortality\": 274.0, \"infant_deaths\": 7, \"alcohol\": 0.01, \"percentage_expenditure\": 0.0, \"hepatitis_B\": 85.0, \"measles\": 124, \"BMI\": 26.2, \"under_five_deaths\": 10, \"polio\": 85.0, \"total_expenditure\": 5.9, \"diphtheria\": 85.0, \"hiv_aids\": 3.0, \"gdp\": null, \"population\": null, \"thinness_1_19_years\": 7.7, \"thinness_5_9_years\": 7.4, \"income_composition_of_resources\": 0.5760000000000001, \"schooling\": 11.1, \"continent\": \"Africa\"}, {\"country\": \"Cook Islands\", \"year\": 2013, \"status\": \"Developing\", \"life_expectancy\": null, \"adult_mortality\": null, \"infant_deaths\": 0, \"alcohol\": 0.01, \"percentage_expenditure\": 0.0, \"hepatitis_B\": 98.0, \"measles\": 0, \"BMI\": 82.8, \"under_five_deaths\": 0, \"polio\": 98.0, \"total_expenditure\": 3.58, \"diphtheria\": 98.0, \"hiv_aids\": 0.1, \"gdp\": null, \"population\": null, \"thinness_1_19_years\": 0.1, \"thinness_5_9_years\": 0.1, \"income_composition_of_resources\": null, \"schooling\": null, \"continent\": \"Oceania\"}, {\"country\": \"Costa Rica\", \"year\": 2013, \"status\": \"Developing\", \"life_expectancy\": 79.4, \"adult_mortality\": 96.0, \"infant_deaths\": 1, \"alcohol\": 3.42, \"percentage_expenditure\": 386.13791230000004, \"hepatitis_B\": 94.0, \"measles\": 0, \"BMI\": 58.5, \"under_five_deaths\": 1, \"polio\": 95.0, \"total_expenditure\": 9.47, \"diphtheria\": 95.0, \"hiv_aids\": 0.1, \"gdp\": 1569.66631, \"population\": 47641.0, \"thinness_1_19_years\": 1.7, \"thinness_5_9_years\": 1.7, \"income_composition_of_resources\": 0.762, \"schooling\": 13.7, \"continent\": \"North America\"}, {\"country\": \"Croatia\", \"year\": 2013, \"status\": \"Developed\", \"life_expectancy\": 77.7, \"adult_mortality\": 97.0, \"infant_deaths\": 0, \"alcohol\": 12.39, \"percentage_expenditure\": 1899.1073850000002, \"hepatitis_B\": 96.0, \"measles\": 0, \"BMI\": 62.5, \"under_five_deaths\": 0, \"polio\": 96.0, \"total_expenditure\": 7.83, \"diphtheria\": 96.0, \"hiv_aids\": 0.1, \"gdp\": 13574.749, \"population\": 4255689.0, \"thinness_1_19_years\": 1.5, \"thinness_5_9_years\": 1.5, \"income_composition_of_resources\": 0.8170000000000001, \"schooling\": 14.9, \"continent\": \"Europe\"}, {\"country\": \"Cuba\", \"year\": 2013, \"status\": \"Developing\", \"life_expectancy\": 78.7, \"adult_mortality\": 96.0, \"infant_deaths\": 1, \"alcohol\": 4.18, \"percentage_expenditure\": 95.67571176, \"hepatitis_B\": 96.0, \"measles\": 0, \"BMI\": 59.9, \"under_five_deaths\": 1, \"polio\": 99.0, \"total_expenditure\": 9.48, \"diphtheria\": 99.0, \"hiv_aids\": 0.1, \"gdp\": 676.15344, \"population\": null, \"thinness_1_19_years\": 3.4, \"thinness_5_9_years\": 3.3, \"income_composition_of_resources\": 0.773, \"schooling\": 14.7, \"continent\": \"North America\"}, {\"country\": \"Cyprus\", \"year\": 2013, \"status\": \"Developed\", \"life_expectancy\": 81.0, \"adult_mortality\": 54.0, \"infant_deaths\": 0, \"alcohol\": 9.04, \"percentage_expenditure\": 212.0859259, \"hepatitis_B\": 96.0, \"measles\": 0, \"BMI\": 59.2, \"under_five_deaths\": 0, \"polio\": 99.0, \"total_expenditure\": 7.46, \"diphtheria\": 99.0, \"hiv_aids\": 0.1, \"gdp\": 2797.96736, \"population\": 1143896.0, \"thinness_1_19_years\": 0.9, \"thinness_5_9_years\": 1.0, \"income_composition_of_resources\": 0.85, \"schooling\": 13.8, \"continent\": \"Asia\"}, {\"country\": \"Czechia\", \"year\": 2013, \"status\": \"Developed\", \"life_expectancy\": 78.2, \"adult_mortality\": 9.0, \"infant_deaths\": 0, \"alcohol\": 12.45, \"percentage_expenditure\": 0.0, \"hepatitis_B\": 99.0, \"measles\": 15, \"BMI\": 65.1, \"under_five_deaths\": 0, \"polio\": 99.0, \"total_expenditure\": 7.49, \"diphtheria\": 98.0, \"hiv_aids\": 0.1, \"gdp\": null, \"population\": null, \"thinness_1_19_years\": 1.8, \"thinness_5_9_years\": 1.9, \"income_composition_of_resources\": null, \"schooling\": null, \"continent\": \"Europe\"}, {\"country\": \"Democratic People's Republic of Korea\", \"year\": 2013, \"status\": \"Developing\", \"life_expectancy\": 71.0, \"adult_mortality\": 146.0, \"infant_deaths\": 6, \"alcohol\": 3.35, \"percentage_expenditure\": 0.0, \"hepatitis_B\": 93.0, \"measles\": 0, \"BMI\": 31.8, \"under_five_deaths\": 8, \"polio\": 99.0, \"total_expenditure\": null, \"diphtheria\": 93.0, \"hiv_aids\": 0.1, \"gdp\": null, \"population\": null, \"thinness_1_19_years\": 5.0, \"thinness_5_9_years\": 5.0, \"income_composition_of_resources\": null, \"schooling\": null, \"continent\": \"Asia\"}, {\"country\": \"Democratic Republic of the Congo\", \"year\": 2013, \"status\": \"Developing\", \"life_expectancy\": 58.8, \"adult_mortality\": 272.0, \"infant_deaths\": 238, \"alcohol\": 0.01, \"percentage_expenditure\": 0.0, \"hepatitis_B\": 74.0, \"measles\": 88381, \"BMI\": 2.6, \"under_five_deaths\": 314, \"polio\": 74.0, \"total_expenditure\": 3.89, \"diphtheria\": 74.0, \"hiv_aids\": 1.2, \"gdp\": null, \"population\": null, \"thinness_1_19_years\": 9.9, \"thinness_5_9_years\": 9.6, \"income_composition_of_resources\": null, \"schooling\": null, \"continent\": \"Africa\"}, {\"country\": \"Denmark\", \"year\": 2013, \"status\": \"Developed\", \"life_expectancy\": 81.0, \"adult_mortality\": 75.0, \"infant_deaths\": 0, \"alcohol\": 9.5, \"percentage_expenditure\": 10261.763, \"hepatitis_B\": null, \"measles\": 17, \"BMI\": 58.1, \"under_five_deaths\": 0, \"polio\": 94.0, \"total_expenditure\": 11.25, \"diphtheria\": 94.0, \"hiv_aids\": 0.1, \"gdp\": 61191.19263, \"population\": 5614932.0, \"thinness_1_19_years\": 1.1, \"thinness_5_9_years\": 0.9, \"income_composition_of_resources\": 0.924, \"schooling\": 18.7, \"continent\": \"Europe\"}, {\"country\": \"Djibouti\", \"year\": 2013, \"status\": \"Developing\", \"life_expectancy\": 62.7, \"adult_mortality\": 256.0, \"infant_deaths\": 1, \"alcohol\": 0.53, \"percentage_expenditure\": 229.4410095, \"hepatitis_B\": 82.0, \"measles\": 28, \"BMI\": 33.8, \"under_five_deaths\": 2, \"polio\": 82.0, \"total_expenditure\": 9.14, \"diphtheria\": 82.0, \"hiv_aids\": 2.1, \"gdp\": 1622.637974, \"population\": 896688.0, \"thinness_1_19_years\": 5.6, \"thinness_5_9_years\": 5.4, \"income_composition_of_resources\": 0.46399999999999997, \"schooling\": 6.3, \"continent\": \"Africa\"}, {\"country\": \"Dominica\", \"year\": 2013, \"status\": \"Developing\", \"life_expectancy\": null, \"adult_mortality\": null, \"infant_deaths\": 0, \"alcohol\": 0.01, \"percentage_expenditure\": 11.41955507, \"hepatitis_B\": 96.0, \"measles\": 0, \"BMI\": 58.4, \"under_five_deaths\": 0, \"polio\": 96.0, \"total_expenditure\": 5.58, \"diphtheria\": 96.0, \"hiv_aids\": 0.1, \"gdp\": 722.75665, \"population\": null, \"thinness_1_19_years\": 2.7, \"thinness_5_9_years\": 2.6, \"income_composition_of_resources\": 0.721, \"schooling\": 12.7, \"continent\": \"North America\"}, {\"country\": \"Dominican Republic\", \"year\": 2013, \"status\": \"Developing\", \"life_expectancy\": 73.4, \"adult_mortality\": 157.0, \"infant_deaths\": 6, \"alcohol\": 5.93, \"percentage_expenditure\": 97.52211538, \"hepatitis_B\": 8.0, \"measles\": 0, \"BMI\": 56.8, \"under_five_deaths\": 7, \"polio\": 82.0, \"total_expenditure\": 4.12, \"diphtheria\": 83.0, \"hiv_aids\": 0.3, \"gdp\": 627.5554400000001, \"population\": 1281296.0, \"thinness_1_19_years\": 3.3, \"thinness_5_9_years\": 3.2, \"income_composition_of_resources\": 0.7090000000000001, \"schooling\": 13.2, \"continent\": \"North America\"}, {\"country\": \"Ecuador\", \"year\": 2013, \"status\": \"Developing\", \"life_expectancy\": 76.0, \"adult_mortality\": 121.0, \"infant_deaths\": 6, \"alcohol\": 3.77, \"percentage_expenditure\": 59.12850204, \"hepatitis_B\": 87.0, \"measles\": 0, \"BMI\": 52.8, \"under_five_deaths\": 8, \"polio\": 87.0, \"total_expenditure\": 7.29, \"diphtheria\": 87.0, \"hiv_aids\": 0.1, \"gdp\": 674.9829, \"population\": 15661547.0, \"thinness_1_19_years\": 1.3, \"thinness_5_9_years\": 1.1, \"income_composition_of_resources\": 0.725, \"schooling\": 13.4, \"continent\": \"South America\"}, {\"country\": \"Egypt\", \"year\": 2013, \"status\": \"Developing\", \"life_expectancy\": 79.0, \"adult_mortality\": 159.0, \"infant_deaths\": 54, \"alcohol\": 0.21, \"percentage_expenditure\": 0.0, \"hepatitis_B\": 97.0, \"measles\": 405, \"BMI\": 59.4, \"under_five_deaths\": 63, \"polio\": 97.0, \"total_expenditure\": 5.46, \"diphtheria\": 97.0, \"hiv_aids\": 0.1, \"gdp\": null, \"population\": null, \"thinness_1_19_years\": 2.9, \"thinness_5_9_years\": 2.8, \"income_composition_of_resources\": 0.6809999999999999, \"schooling\": 12.8, \"continent\": \"Africa\"}, {\"country\": \"El Salvador\", \"year\": 2013, \"status\": \"Developing\", \"life_expectancy\": 73.0, \"adult_mortality\": 184.0, \"infant_deaths\": 2, \"alcohol\": 2.42, \"percentage_expenditure\": 653.6925016, \"hepatitis_B\": 92.0, \"measles\": 0, \"BMI\": 54.7, \"under_five_deaths\": 2, \"polio\": 92.0, \"total_expenditure\": 6.95, \"diphtheria\": 92.0, \"hiv_aids\": 0.2, \"gdp\": 3895.6644909999995, \"population\": 625777.0, \"thinness_1_19_years\": 1.6, \"thinness_5_9_years\": 1.6, \"income_composition_of_resources\": 0.675, \"schooling\": 13.2, \"continent\": \"North America\"}, {\"country\": \"Equatorial Guinea\", \"year\": 2013, \"status\": \"Developing\", \"life_expectancy\": 57.4, \"adult_mortality\": 327.0, \"infant_deaths\": 3, \"alcohol\": 10.72, \"percentage_expenditure\": 156.3907685, \"hepatitis_B\": null, \"measles\": 321, \"BMI\": 23.5, \"under_five_deaths\": 4, \"polio\": 3.0, \"total_expenditure\": 3.73, \"diphtheria\": 3.0, \"hiv_aids\": 5.7, \"gdp\": 2246.9938, \"population\": 183746.0, \"thinness_1_19_years\": 8.6, \"thinness_5_9_years\": 8.6, \"income_composition_of_resources\": 0.586, \"schooling\": 9.2, \"continent\": \"Africa\"}, {\"country\": \"Eritrea\", \"year\": 2013, \"status\": \"Developing\", \"life_expectancy\": 64.0, \"adult_mortality\": 266.0, \"infant_deaths\": 6, \"alcohol\": 0.01, \"percentage_expenditure\": 0.0, \"hepatitis_B\": 94.0, \"measles\": 45, \"BMI\": 17.5, \"under_five_deaths\": 8, \"polio\": 94.0, \"total_expenditure\": 3.1, \"diphtheria\": 94.0, \"hiv_aids\": 0.5, \"gdp\": null, \"population\": null, \"thinness_1_19_years\": 8.6, \"thinness_5_9_years\": 8.4, \"income_composition_of_resources\": 0.414, \"schooling\": 5.0, \"continent\": \"Africa\"}, {\"country\": \"Estonia\", \"year\": 2013, \"status\": \"Developing\", \"life_expectancy\": 76.9, \"adult_mortality\": 127.0, \"infant_deaths\": 0, \"alcohol\": 0.01, \"percentage_expenditure\": 261.29148080000004, \"hepatitis_B\": 93.0, \"measles\": 2, \"BMI\": 59.0, \"under_five_deaths\": 0, \"polio\": 94.0, \"total_expenditure\": 6.48, \"diphtheria\": 94.0, \"hiv_aids\": 0.1, \"gdp\": 1929.7746, \"population\": 1317997.0, \"thinness_1_19_years\": 1.9, \"thinness_5_9_years\": 1.9, \"income_composition_of_resources\": 0.856, \"schooling\": 16.5, \"continent\": \"Europe\"}, {\"country\": \"Ethiopia\", \"year\": 2013, \"status\": \"Developing\", \"life_expectancy\": 63.7, \"adult_mortality\": 237.0, \"infant_deaths\": 145, \"alcohol\": 1.86, \"percentage_expenditure\": 8.313282039, \"hepatitis_B\": 72.0, \"measles\": 5253, \"BMI\": 16.8, \"under_five_deaths\": 211, \"polio\": 7.0, \"total_expenditure\": 5.19, \"diphtheria\": 72.0, \"hiv_aids\": 0.9, \"gdp\": 52.15358870000001, \"population\": 94887724.0, \"thinness_1_19_years\": 1.6, \"thinness_5_9_years\": 1.4, \"income_composition_of_resources\": 0.42700000000000005, \"schooling\": 8.4, \"continent\": \"Africa\"}, {\"country\": \"Fiji\", \"year\": 2013, \"status\": \"Developing\", \"life_expectancy\": 69.6, \"adult_mortality\": 192.0, \"infant_deaths\": 0, \"alcohol\": 0.01, \"percentage_expenditure\": 460.6487805, \"hepatitis_B\": 99.0, \"measles\": 0, \"BMI\": 61.1, \"under_five_deaths\": 0, \"polio\": 99.0, \"total_expenditure\": 4.26, \"diphtheria\": 99.0, \"hiv_aids\": 0.1, \"gdp\": 4763.68956, \"population\": 879715.0, \"thinness_1_19_years\": 4.0, \"thinness_5_9_years\": 3.7, \"income_composition_of_resources\": 0.7190000000000001, \"schooling\": 15.0, \"continent\": \"Oceania\"}, {\"country\": \"Finland\", \"year\": 2013, \"status\": \"Developing\", \"life_expectancy\": 87.0, \"adult_mortality\": 79.0, \"infant_deaths\": 0, \"alcohol\": 8.97, \"percentage_expenditure\": 6115.496624, \"hepatitis_B\": null, \"measles\": 2, \"BMI\": 61.4, \"under_five_deaths\": 0, \"polio\": 98.0, \"total_expenditure\": 9.55, \"diphtheria\": 98.0, \"hiv_aids\": 0.1, \"gdp\": 49638.7713, \"population\": 5438972.0, \"thinness_1_19_years\": 0.9, \"thinness_5_9_years\": 0.8, \"income_composition_of_resources\": 0.887, \"schooling\": 17.0, \"continent\": \"Europe\"}, {\"country\": \"France\", \"year\": 2013, \"status\": \"Developing\", \"life_expectancy\": 82.0, \"adult_mortality\": 81.0, \"infant_deaths\": 3, \"alcohol\": 11.1, \"percentage_expenditure\": 6646.9539350000005, \"hepatitis_B\": 74.0, \"measles\": 272, \"BMI\": 61.6, \"under_five_deaths\": 3, \"polio\": 99.0, \"total_expenditure\": 11.56, \"diphtheria\": 99.0, \"hiv_aids\": 0.1, \"gdp\": 42554.1225, \"population\": 6599857.0, \"thinness_1_19_years\": 0.6, \"thinness_5_9_years\": 0.6, \"income_composition_of_resources\": 0.887, \"schooling\": 16.2, \"continent\": \"Europe\"}, {\"country\": \"Gabon\", \"year\": 2013, \"status\": \"Developing\", \"life_expectancy\": 64.6, \"adult_mortality\": 255.0, \"infant_deaths\": 2, \"alcohol\": 8.86, \"percentage_expenditure\": 154.8758879, \"hepatitis_B\": 79.0, \"measles\": 122, \"BMI\": 35.2, \"under_five_deaths\": 3, \"polio\": 77.0, \"total_expenditure\": 3.98, \"diphtheria\": 79.0, \"hiv_aids\": 3.7, \"gdp\": 9679.742995, \"population\": 1817271.0, \"thinness_1_19_years\": 6.2, \"thinness_5_9_years\": 6.1, \"income_composition_of_resources\": 0.6779999999999999, \"schooling\": 12.5, \"continent\": \"Africa\"}, {\"country\": \"Gambia\", \"year\": 2013, \"status\": \"Developing\", \"life_expectancy\": 66.0, \"adult_mortality\": 266.0, \"infant_deaths\": 3, \"alcohol\": 0.01, \"percentage_expenditure\": 0.0, \"hepatitis_B\": 97.0, \"measles\": 0, \"BMI\": 26.0, \"under_five_deaths\": 5, \"polio\": 96.0, \"total_expenditure\": 6.49, \"diphtheria\": 97.0, \"hiv_aids\": 1.6, \"gdp\": null, \"population\": null, \"thinness_1_19_years\": 7.6, \"thinness_5_9_years\": 7.5, \"income_composition_of_resources\": 0.445, \"schooling\": 8.9, \"continent\": \"Africa\"}, {\"country\": \"Georgia\", \"year\": 2013, \"status\": \"Developing\", \"life_expectancy\": 74.5, \"adult_mortality\": 128.0, \"infant_deaths\": 1, \"alcohol\": 5.91, \"percentage_expenditure\": 180.3787034, \"hepatitis_B\": 96.0, \"measles\": 7872, \"BMI\": 54.4, \"under_five_deaths\": 1, \"polio\": 94.0, \"total_expenditure\": 7.25, \"diphtheria\": 93.0, \"hiv_aids\": 0.1, \"gdp\": 4274.376857, \"population\": 3776.0, \"thinness_1_19_years\": 2.7, \"thinness_5_9_years\": 2.8, \"income_composition_of_resources\": 0.755, \"schooling\": 13.5, \"continent\": \"Asia\"}, {\"country\": \"Germany\", \"year\": 2013, \"status\": \"Developed\", \"life_expectancy\": 86.0, \"adult_mortality\": 71.0, \"infant_deaths\": 2, \"alcohol\": 10.94, \"percentage_expenditure\": 895.8779502999998, \"hepatitis_B\": 88.0, \"measles\": 1771, \"BMI\": 61.4, \"under_five_deaths\": 3, \"polio\": 94.0, \"total_expenditure\": 11.16, \"diphtheria\": 95.0, \"hiv_aids\": 0.1, \"gdp\": 4653.91143, \"population\": 864565.0, \"thinness_1_19_years\": 1.1, \"thinness_5_9_years\": 1.1, \"income_composition_of_resources\": 0.919, \"schooling\": 16.9, \"continent\": \"Europe\"}, {\"country\": \"Ghana\", \"year\": 2013, \"status\": \"Developing\", \"life_expectancy\": 61.9, \"adult_mortality\": 254.0, \"infant_deaths\": 38, \"alcohol\": 0.01, \"percentage_expenditure\": 28.66897829, \"hepatitis_B\": 9.0, \"measles\": 319, \"BMI\": 27.3, \"under_five_deaths\": 55, \"polio\": 91.0, \"total_expenditure\": 4.63, \"diphtheria\": 9.0, \"hiv_aids\": 0.9, \"gdp\": 1814.4922969999998, \"population\": 26346251.0, \"thinness_1_19_years\": 6.6, \"thinness_5_9_years\": 6.4, \"income_composition_of_resources\": 0.57, \"schooling\": 11.5, \"continent\": \"Africa\"}, {\"country\": \"Greece\", \"year\": 2013, \"status\": \"Developing\", \"life_expectancy\": 86.0, \"adult_mortality\": 74.0, \"infant_deaths\": 0, \"alcohol\": 7.46, \"percentage_expenditure\": 2183.106986, \"hepatitis_B\": 98.0, \"measles\": 3, \"BMI\": 65.4, \"under_five_deaths\": 0, \"polio\": 99.0, \"total_expenditure\": 9.26, \"diphtheria\": 99.0, \"hiv_aids\": 0.1, \"gdp\": 21874.8195, \"population\": 1965211.0, \"thinness_1_19_years\": 0.8, \"thinness_5_9_years\": 0.7, \"income_composition_of_resources\": 0.86, \"schooling\": 17.1, \"continent\": \"Europe\"}, {\"country\": \"Grenada\", \"year\": 2013, \"status\": \"Developing\", \"life_expectancy\": 73.3, \"adult_mortality\": 144.0, \"infant_deaths\": 0, \"alcohol\": 8.25, \"percentage_expenditure\": 780.4459281000001, \"hepatitis_B\": 97.0, \"measles\": 0, \"BMI\": 46.5, \"under_five_deaths\": 0, \"polio\": 98.0, \"total_expenditure\": 6.15, \"diphtheria\": 97.0, \"hiv_aids\": 0.1, \"gdp\": 7955.6159849999995, \"population\": null, \"thinness_1_19_years\": 3.8, \"thinness_5_9_years\": 3.8, \"income_composition_of_resources\": 0.746, \"schooling\": 15.8, \"continent\": \"North America\"}, {\"country\": \"Guatemala\", \"year\": 2013, \"status\": \"Developing\", \"life_expectancy\": 71.4, \"adult_mortality\": 189.0, \"infant_deaths\": 11, \"alcohol\": 1.93, \"percentage_expenditure\": 582.1469582999999, \"hepatitis_B\": 85.0, \"measles\": 0, \"BMI\": 49.3, \"under_five_deaths\": 13, \"polio\": 84.0, \"total_expenditure\": 6.3, \"diphtheria\": 85.0, \"hiv_aids\": 0.4, \"gdp\": 3452.8289340000006, \"population\": 15596214.0, \"thinness_1_19_years\": 1.2, \"thinness_5_9_years\": 1.2, \"income_composition_of_resources\": 0.611, \"schooling\": 10.7, \"continent\": \"North America\"}, {\"country\": \"Guinea\", \"year\": 2013, \"status\": \"Developing\", \"life_expectancy\": 58.8, \"adult_mortality\": 284.0, \"infant_deaths\": 27, \"alcohol\": 0.01, \"percentage_expenditure\": 5.140668848, \"hepatitis_B\": 63.0, \"measles\": 53, \"BMI\": 22.2, \"under_five_deaths\": 41, \"polio\": 63.0, \"total_expenditure\": 5.49, \"diphtheria\": 63.0, \"hiv_aids\": 1.0, \"gdp\": 54.169323999999996, \"population\": 11536615.0, \"thinness_1_19_years\": 7.7, \"thinness_5_9_years\": 7.6, \"income_composition_of_resources\": 0.406, \"schooling\": 8.5, \"continent\": \"Africa\"}, {\"country\": \"Guinea-Bissau\", \"year\": 2013, \"status\": \"Developing\", \"life_expectancy\": 58.1, \"adult_mortality\": 279.0, \"infant_deaths\": 4, \"alcohol\": 0.01, \"percentage_expenditure\": 8.20063742, \"hepatitis_B\": 87.0, \"measles\": 0, \"BMI\": 25.0, \"under_five_deaths\": 6, \"polio\": 87.0, \"total_expenditure\": 6.14, \"diphtheria\": 87.0, \"hiv_aids\": 4.5, \"gdp\": 61.566347, \"population\": 1681495.0, \"thinness_1_19_years\": 7.5, \"thinness_5_9_years\": 7.3, \"income_composition_of_resources\": 0.415, \"schooling\": 9.1, \"continent\": \"Africa\"}, {\"country\": \"Guyana\", \"year\": 2013, \"status\": \"Developing\", \"life_expectancy\": 65.9, \"adult_mortality\": 218.0, \"infant_deaths\": 0, \"alcohol\": 7.56, \"percentage_expenditure\": 345.9044258, \"hepatitis_B\": 98.0, \"measles\": 0, \"BMI\": 45.0, \"under_five_deaths\": 1, \"polio\": 98.0, \"total_expenditure\": 5.1, \"diphtheria\": 98.0, \"hiv_aids\": 0.3, \"gdp\": 3944.178173, \"population\": 75881.0, \"thinness_1_19_years\": 5.5, \"thinness_5_9_years\": 5.3, \"income_composition_of_resources\": 0.633, \"schooling\": 10.3, \"continent\": \"South America\"}, {\"country\": \"Haiti\", \"year\": 2013, \"status\": \"Developing\", \"life_expectancy\": 62.7, \"adult_mortality\": 253.0, \"infant_deaths\": 14, \"alcohol\": 5.68, \"percentage_expenditure\": 4.989712322, \"hepatitis_B\": 68.0, \"measles\": 0, \"BMI\": 47.7, \"under_five_deaths\": 19, \"polio\": 67.0, \"total_expenditure\": 8.1, \"diphtheria\": 68.0, \"hiv_aids\": 0.5, \"gdp\": 81.26567299999999, \"population\": 1431776.0, \"thinness_1_19_years\": 3.9, \"thinness_5_9_years\": 3.9, \"income_composition_of_resources\": 0.483, \"schooling\": 9.1, \"continent\": \"North America\"}, {\"country\": \"Honduras\", \"year\": 2013, \"status\": \"Developing\", \"life_expectancy\": 74.3, \"adult_mortality\": 15.0, \"infant_deaths\": 4, \"alcohol\": 3.11, \"percentage_expenditure\": 311.7553193, \"hepatitis_B\": 97.0, \"measles\": 0, \"BMI\": 49.3, \"under_five_deaths\": 4, \"polio\": 97.0, \"total_expenditure\": 9.15, \"diphtheria\": 97.0, \"hiv_aids\": 0.4, \"gdp\": 2136.77395, \"population\": 8657785.0, \"thinness_1_19_years\": 2.2, \"thinness_5_9_years\": 2.1, \"income_composition_of_resources\": 0.614, \"schooling\": 11.6, \"continent\": \"North America\"}, {\"country\": \"Hungary\", \"year\": 2013, \"status\": \"Developed\", \"life_expectancy\": 75.5, \"adult_mortality\": 139.0, \"infant_deaths\": 0, \"alcohol\": 10.88, \"percentage_expenditure\": 155.19520759999997, \"hepatitis_B\": null, \"measles\": 1, \"BMI\": 63.6, \"under_five_deaths\": 1, \"polio\": 99.0, \"total_expenditure\": 7.53, \"diphtheria\": 99.0, \"hiv_aids\": 0.1, \"gdp\": 13613.6147, \"population\": 989382.0, \"thinness_1_19_years\": 1.7, \"thinness_5_9_years\": 1.7, \"income_composition_of_resources\": 0.8240000000000001, \"schooling\": 15.4, \"continent\": \"Europe\"}, {\"country\": \"Iceland\", \"year\": 2013, \"status\": \"Developed\", \"life_expectancy\": 82.4, \"adult_mortality\": 5.0, \"infant_deaths\": 0, \"alcohol\": 7.31, \"percentage_expenditure\": 764.5440691, \"hepatitis_B\": null, \"measles\": 0, \"BMI\": 6.2, \"under_five_deaths\": 0, \"polio\": 91.0, \"total_expenditure\": 8.75, \"diphtheria\": 91.0, \"hiv_aids\": 0.1, \"gdp\": 4781.3888, \"population\": 323764.0, \"thinness_1_19_years\": 1.0, \"thinness_5_9_years\": 0.9, \"income_composition_of_resources\": 0.907, \"schooling\": 19.0, \"continent\": \"Europe\"}, {\"country\": \"India\", \"year\": 2013, \"status\": \"Developing\", \"life_expectancy\": 67.6, \"adult_mortality\": 187.0, \"infant_deaths\": 1000, \"alcohol\": 3.11, \"percentage_expenditure\": 67.67230438, \"hepatitis_B\": 7.0, \"measles\": 13822, \"BMI\": 17.5, \"under_five_deaths\": 1300, \"polio\": 82.0, \"total_expenditure\": 4.53, \"diphtheria\": 83.0, \"hiv_aids\": 0.2, \"gdp\": 1452.195373, \"population\": 127856227.0, \"thinness_1_19_years\": 26.8, \"thinness_5_9_years\": 27.5, \"income_composition_of_resources\": 0.599, \"schooling\": 11.5, \"continent\": \"Asia\"}, {\"country\": \"Indonesia\", \"year\": 2013, \"status\": \"Developing\", \"life_expectancy\": 68.7, \"adult_mortality\": 181.0, \"infant_deaths\": 124, \"alcohol\": 0.09, \"percentage_expenditure\": 22.8478308, \"hepatitis_B\": 85.0, \"measles\": 8419, \"BMI\": 25.6, \"under_five_deaths\": 148, \"polio\": 86.0, \"total_expenditure\": 2.93, \"diphtheria\": 85.0, \"hiv_aids\": 0.3, \"gdp\": 362.663981, \"population\": 25232263.0, \"thinness_1_19_years\": 1.5, \"thinness_5_9_years\": 1.3, \"income_composition_of_resources\": 0.677, \"schooling\": 12.9, \"continent\": \"Asia\"}, {\"country\": \"Iran, Islamic Republic of\", \"year\": 2013, \"status\": \"Developing\", \"life_expectancy\": 75.3, \"adult_mortality\": 83.0, \"infant_deaths\": 20, \"alcohol\": 0.01, \"percentage_expenditure\": 0.0, \"hepatitis_B\": 99.0, \"measles\": 189, \"BMI\": 57.2, \"under_five_deaths\": 23, \"polio\": 98.0, \"total_expenditure\": 6.49, \"diphtheria\": 98.0, \"hiv_aids\": 0.1, \"gdp\": null, \"population\": null, \"thinness_1_19_years\": 8.2, \"thinness_5_9_years\": 8.3, \"income_composition_of_resources\": 0.769, \"schooling\": 15.0, \"continent\": \"Asia\"}, {\"country\": \"Iraq\", \"year\": 2013, \"status\": \"Developing\", \"life_expectancy\": 69.5, \"adult_mortality\": 17.0, \"infant_deaths\": 32, \"alcohol\": 0.01, \"percentage_expenditure\": 447.36950010000004, \"hepatitis_B\": 66.0, \"measles\": 669, \"BMI\": 57.8, \"under_five_deaths\": 39, \"polio\": 7.0, \"total_expenditure\": 5.92, \"diphtheria\": 68.0, \"hiv_aids\": 0.1, \"gdp\": 6925.224459999999, \"population\": 33883145.0, \"thinness_1_19_years\": 5.3, \"thinness_5_9_years\": 5.1, \"income_composition_of_resources\": 0.659, \"schooling\": 10.3, \"continent\": \"Asia\"}, {\"country\": \"Ireland\", \"year\": 2013, \"status\": \"Developed\", \"life_expectancy\": 81.0, \"adult_mortality\": 67.0, \"infant_deaths\": 0, \"alcohol\": 10.49, \"percentage_expenditure\": 703.5527332, \"hepatitis_B\": 95.0, \"measles\": 51, \"BMI\": 61.3, \"under_five_deaths\": 0, \"polio\": 96.0, \"total_expenditure\": 8.1, \"diphtheria\": 96.0, \"hiv_aids\": 0.1, \"gdp\": 5234.76736, \"population\": 4598294.0, \"thinness_1_19_years\": 0.3, \"thinness_5_9_years\": 0.2, \"income_composition_of_resources\": 0.902, \"schooling\": 18.6, \"continent\": \"Europe\"}, {\"country\": \"Israel\", \"year\": 2013, \"status\": \"Developing\", \"life_expectancy\": 82.1, \"adult_mortality\": 61.0, \"infant_deaths\": 1, \"alcohol\": 2.69, \"percentage_expenditure\": 4279.895512, \"hepatitis_B\": 97.0, \"measles\": 50, \"BMI\": 64.2, \"under_five_deaths\": 1, \"polio\": 96.0, \"total_expenditure\": 7.89, \"diphtheria\": 96.0, \"hiv_aids\": 0.1, \"gdp\": 36393.66932, \"population\": 8595.0, \"thinness_1_19_years\": 1.2, \"thinness_5_9_years\": 1.1, \"income_composition_of_resources\": 0.8909999999999999, \"schooling\": 15.9, \"continent\": \"Asia\"}, {\"country\": \"Italy\", \"year\": 2013, \"status\": \"Developed\", \"life_expectancy\": 82.3, \"adult_mortality\": 58.0, \"infant_deaths\": 2, \"alcohol\": 7.35, \"percentage_expenditure\": 483.1916844, \"hepatitis_B\": 96.0, \"measles\": 0, \"BMI\": 62.6, \"under_five_deaths\": 2, \"polio\": 96.0, \"total_expenditure\": 9.22, \"diphtheria\": 96.0, \"hiv_aids\": 0.1, \"gdp\": 3537.27441, \"population\": 6233948.0, \"thinness_1_19_years\": 0.5, \"thinness_5_9_years\": 0.6, \"income_composition_of_resources\": 0.8759999999999999, \"schooling\": 16.5, \"continent\": \"Europe\"}, {\"country\": \"Jamaica\", \"year\": 2013, \"status\": \"Developing\", \"life_expectancy\": 75.6, \"adult_mortality\": 136.0, \"infant_deaths\": 1, \"alcohol\": 3.79, \"percentage_expenditure\": 5.4572893339999995, \"hepatitis_B\": 93.0, \"measles\": 0, \"BMI\": 52.7, \"under_five_deaths\": 1, \"polio\": 86.0, \"total_expenditure\": 5.91, \"diphtheria\": 93.0, \"hiv_aids\": 0.6, \"gdp\": 56.144952, \"population\": 285187.0, \"thinness_1_19_years\": 1.8, \"thinness_5_9_years\": 1.7, \"income_composition_of_resources\": 0.727, \"schooling\": 12.8, \"continent\": \"North America\"}, {\"country\": \"Japan\", \"year\": 2013, \"status\": \"Developed\", \"life_expectancy\": 83.5, \"adult_mortality\": 56.0, \"infant_deaths\": 2, \"alcohol\": 7.55, \"percentage_expenditure\": 94.43428615, \"hepatitis_B\": null, \"measles\": 229, \"BMI\": 28.2, \"under_five_deaths\": 3, \"polio\": 99.0, \"total_expenditure\": 1.25, \"diphtheria\": 96.0, \"hiv_aids\": 0.1, \"gdp\": 4454.44746, \"population\": 127445.0, \"thinness_1_19_years\": 2.0, \"thinness_5_9_years\": 1.7, \"income_composition_of_resources\": 0.894, \"schooling\": 15.3, \"continent\": \"Asia\"}, {\"country\": \"Jordan\", \"year\": 2013, \"status\": \"Developing\", \"life_expectancy\": 73.9, \"adult_mortality\": 114.0, \"infant_deaths\": 4, \"alcohol\": 0.4, \"percentage_expenditure\": 546.6235156, \"hepatitis_B\": 98.0, \"measles\": 120, \"BMI\": 64.0, \"under_five_deaths\": 4, \"polio\": 98.0, \"total_expenditure\": 7.23, \"diphtheria\": 98.0, \"hiv_aids\": 0.1, \"gdp\": 3992.8671700000004, \"population\": 8413464.0, \"thinness_1_19_years\": 3.9, \"thinness_5_9_years\": 3.9, \"income_composition_of_resources\": 0.737, \"schooling\": 13.1, \"continent\": \"Asia\"}, {\"country\": \"Kazakhstan\", \"year\": 2013, \"status\": \"Developing\", \"life_expectancy\": 69.5, \"adult_mortality\": 28.0, \"infant_deaths\": 5, \"alcohol\": 6.48, \"percentage_expenditure\": 26.4072659, \"hepatitis_B\": 99.0, \"measles\": 73, \"BMI\": 51.4, \"under_five_deaths\": 6, \"polio\": 98.0, \"total_expenditure\": 4.3, \"diphtheria\": 98.0, \"hiv_aids\": 0.1, \"gdp\": 1389.8561, \"population\": 1735275.0, \"thinness_1_19_years\": 2.4, \"thinness_5_9_years\": 2.5, \"income_composition_of_resources\": 0.782, \"schooling\": 15.0, \"continent\": \"Asia\"}, {\"country\": \"Kenya\", \"year\": 2013, \"status\": \"Developing\", \"life_expectancy\": 62.6, \"adult_mortality\": 258.0, \"infant_deaths\": 58, \"alcohol\": 1.84, \"percentage_expenditure\": 165.9304977, \"hepatitis_B\": 93.0, \"measles\": 190, \"BMI\": 2.7, \"under_five_deaths\": 81, \"polio\": 94.0, \"total_expenditure\": 5.57, \"diphtheria\": 87.0, \"hiv_aids\": 3.0, \"gdp\": 1229.114798, \"population\": 44826849.0, \"thinness_1_19_years\": 7.9, \"thinness_5_9_years\": 7.7, \"income_composition_of_resources\": 0.541, \"schooling\": 11.1, \"continent\": \"Africa\"}, {\"country\": \"Kiribati\", \"year\": 2013, \"status\": \"Developing\", \"life_expectancy\": 65.8, \"adult_mortality\": 22.0, \"infant_deaths\": 0, \"alcohol\": 0.01, \"percentage_expenditure\": 137.25919430000002, \"hepatitis_B\": 95.0, \"measles\": 0, \"BMI\": 76.7, \"under_five_deaths\": 0, \"polio\": 91.0, \"total_expenditure\": 1.15, \"diphtheria\": 95.0, \"hiv_aids\": 0.1, \"gdp\": 1724.3617370000002, \"population\": 18535.0, \"thinness_1_19_years\": 0.1, \"thinness_5_9_years\": 0.1, \"income_composition_of_resources\": 0.589, \"schooling\": 11.9, \"continent\": \"Oceania\"}, {\"country\": \"Kuwait\", \"year\": 2013, \"status\": \"Developing\", \"life_expectancy\": 74.5, \"adult_mortality\": 83.0, \"infant_deaths\": 1, \"alcohol\": 0.01, \"percentage_expenditure\": 2792.6775820000003, \"hepatitis_B\": 99.0, \"measles\": 62, \"BMI\": 7.2, \"under_five_deaths\": 1, \"polio\": 99.0, \"total_expenditure\": 2.56, \"diphtheria\": 99.0, \"hiv_aids\": 0.1, \"gdp\": 48399.9581, \"population\": null, \"thinness_1_19_years\": 3.4, \"thinness_5_9_years\": 3.3, \"income_composition_of_resources\": 0.7959999999999999, \"schooling\": 13.1, \"continent\": \"Asia\"}, {\"country\": \"Kyrgyzstan\", \"year\": 2013, \"status\": \"Developing\", \"life_expectancy\": 77.0, \"adult_mortality\": 174.0, \"infant_deaths\": 3, \"alcohol\": 0.01, \"percentage_expenditure\": 0.0, \"hepatitis_B\": 97.0, \"measles\": 1, \"BMI\": 43.0, \"under_five_deaths\": 4, \"polio\": 97.0, \"total_expenditure\": 6.68, \"diphtheria\": 97.0, \"hiv_aids\": 0.1, \"gdp\": null, \"population\": null, \"thinness_1_19_years\": 3.3, \"thinness_5_9_years\": 3.3, \"income_composition_of_resources\": 0.647, \"schooling\": 12.5, \"continent\": \"Asia\"}, {\"country\": \"Lao People's Democratic Republic\", \"year\": 2013, \"status\": \"Developing\", \"life_expectancy\": 64.9, \"adult_mortality\": 23.0, \"infant_deaths\": 9, \"alcohol\": 0.01, \"percentage_expenditure\": 0.0, \"hepatitis_B\": 87.0, \"measles\": 71, \"BMI\": 2.1, \"under_five_deaths\": 12, \"polio\": 86.0, \"total_expenditure\": 2.0, \"diphtheria\": 87.0, \"hiv_aids\": 0.3, \"gdp\": null, \"population\": null, \"thinness_1_19_years\": 9.0, \"thinness_5_9_years\": 9.1, \"income_composition_of_resources\": 0.563, \"schooling\": 10.4, \"continent\": \"Asia\"}, {\"country\": \"Latvia\", \"year\": 2013, \"status\": \"Developed\", \"life_expectancy\": 74.1, \"adult_mortality\": 161.0, \"infant_deaths\": 0, \"alcohol\": 10.37, \"percentage_expenditure\": 150.3116884, \"hepatitis_B\": 94.0, \"measles\": 0, \"BMI\": 6.2, \"under_five_deaths\": 0, \"polio\": 94.0, \"total_expenditure\": 5.67, \"diphtheria\": 94.0, \"hiv_aids\": 0.1, \"gdp\": 1532.2292400000001, \"population\": 212647.0, \"thinness_1_19_years\": 2.2, \"thinness_5_9_years\": 2.2, \"income_composition_of_resources\": 0.8140000000000001, \"schooling\": 15.4, \"continent\": \"Europe\"}, {\"country\": \"Lebanon\", \"year\": 2013, \"status\": \"Developing\", \"life_expectancy\": 74.9, \"adult_mortality\": 97.0, \"infant_deaths\": 1, \"alcohol\": 1.29, \"percentage_expenditure\": 14.55610463, \"hepatitis_B\": 81.0, \"measles\": 1761, \"BMI\": 64.9, \"under_five_deaths\": 1, \"polio\": 75.0, \"total_expenditure\": 6.63, \"diphtheria\": 81.0, \"hiv_aids\": 0.1, \"gdp\": 846.2851529999999, \"population\": 527612.0, \"thinness_1_19_years\": 4.8, \"thinness_5_9_years\": 4.8, \"income_composition_of_resources\": 0.7659999999999999, \"schooling\": 13.3, \"continent\": \"Asia\"}, {\"country\": \"Lesotho\", \"year\": 2013, \"status\": \"Developing\", \"life_expectancy\": 52.1, \"adult_mortality\": 518.0, \"infant_deaths\": 4, \"alcohol\": 0.01, \"percentage_expenditure\": 153.34431469999998, \"hepatitis_B\": 93.0, \"measles\": 516, \"BMI\": 31.4, \"under_five_deaths\": 6, \"polio\": 9.0, \"total_expenditure\": 11.7, \"diphtheria\": 93.0, \"hiv_aids\": 9.6, \"gdp\": 1196.1335, \"population\": 2117361.0, \"thinness_1_19_years\": 6.1, \"thinness_5_9_years\": 5.9, \"income_composition_of_resources\": 0.484, \"schooling\": 11.1, \"continent\": \"Africa\"}, {\"country\": \"Liberia\", \"year\": 2013, \"status\": \"Developing\", \"life_expectancy\": 61.1, \"adult_mortality\": 258.0, \"infant_deaths\": 9, \"alcohol\": 0.01, \"percentage_expenditure\": 45.04892458, \"hepatitis_B\": 76.0, \"measles\": 0, \"BMI\": 26.1, \"under_five_deaths\": 11, \"polio\": 75.0, \"total_expenditure\": 9.25, \"diphtheria\": 76.0, \"hiv_aids\": 1.1, \"gdp\": 454.12222360000004, \"population\": 4286291.0, \"thinness_1_19_years\": 6.8, \"thinness_5_9_years\": 6.7, \"income_composition_of_resources\": 0.419, \"schooling\": 9.8, \"continent\": \"Africa\"}, {\"country\": \"Libya\", \"year\": 2013, \"status\": \"Developing\", \"life_expectancy\": 72.9, \"adult_mortality\": 134.0, \"infant_deaths\": 2, \"alcohol\": 0.01, \"percentage_expenditure\": 0.0, \"hepatitis_B\": 96.0, \"measles\": 0, \"BMI\": 62.8, \"under_five_deaths\": 2, \"polio\": 96.0, \"total_expenditure\": 4.33, \"diphtheria\": 96.0, \"hiv_aids\": 0.1, \"gdp\": null, \"population\": null, \"thinness_1_19_years\": 5.7, \"thinness_5_9_years\": 5.5, \"income_composition_of_resources\": 0.735, \"schooling\": 13.4, \"continent\": \"Africa\"}, {\"country\": \"Lithuania\", \"year\": 2013, \"status\": \"Developed\", \"life_expectancy\": 73.0, \"adult_mortality\": 178.0, \"infant_deaths\": 0, \"alcohol\": 15.04, \"percentage_expenditure\": 1968.8168170000001, \"hepatitis_B\": 93.0, \"measles\": 35, \"BMI\": 61.4, \"under_five_deaths\": 0, \"polio\": 93.0, \"total_expenditure\": 6.59, \"diphtheria\": 93.0, \"hiv_aids\": 0.1, \"gdp\": 15712.82376, \"population\": 2957689.0, \"thinness_1_19_years\": 2.7, \"thinness_5_9_years\": 2.7, \"income_composition_of_resources\": 0.8340000000000001, \"schooling\": 16.4, \"continent\": \"Europe\"}, {\"country\": \"Luxembourg\", \"year\": 2013, \"status\": \"Developed\", \"life_expectancy\": 81.4, \"adult_mortality\": 68.0, \"infant_deaths\": 0, \"alcohol\": 11.02, \"percentage_expenditure\": 15515.752340000001, \"hepatitis_B\": 94.0, \"measles\": 0, \"BMI\": 6.5, \"under_five_deaths\": 0, \"polio\": 99.0, \"total_expenditure\": 7.1, \"diphtheria\": 99.0, \"hiv_aids\": 0.1, \"gdp\": 113751.85, \"population\": 54336.0, \"thinness_1_19_years\": 0.9, \"thinness_5_9_years\": 0.9, \"income_composition_of_resources\": 0.892, \"schooling\": 13.9, \"continent\": \"Europe\"}, {\"country\": \"Madagascar\", \"year\": 2013, \"status\": \"Developing\", \"life_expectancy\": 64.7, \"adult_mortality\": 23.0, \"infant_deaths\": 29, \"alcohol\": 0.87, \"percentage_expenditure\": 79.50882493, \"hepatitis_B\": 74.0, \"measles\": 6, \"BMI\": 19.5, \"under_five_deaths\": 40, \"polio\": 73.0, \"total_expenditure\": 4.15, \"diphtheria\": 74.0, \"hiv_aids\": 0.4, \"gdp\": 461.72372199999995, \"population\": 22961146.0, \"thinness_1_19_years\": 7.3, \"thinness_5_9_years\": 7.2, \"income_composition_of_resources\": 0.508, \"schooling\": 10.3, \"continent\": \"Africa\"}, {\"country\": \"Malawi\", \"year\": 2013, \"status\": \"Developing\", \"life_expectancy\": 56.7, \"adult_mortality\": 394.0, \"infant_deaths\": 29, \"alcohol\": 0.01, \"percentage_expenditure\": 55.83107625, \"hepatitis_B\": 89.0, \"measles\": 1, \"BMI\": 18.8, \"under_five_deaths\": 42, \"polio\": 89.0, \"total_expenditure\": 1.96, \"diphtheria\": 89.0, \"hiv_aids\": 6.3, \"gdp\": 332.922339, \"population\": 16577147.0, \"thinness_1_19_years\": 6.5, \"thinness_5_9_years\": 6.4, \"income_composition_of_resources\": 0.45899999999999996, \"schooling\": 10.7, \"continent\": \"Africa\"}, {\"country\": \"Malaysia\", \"year\": 2013, \"status\": \"Developing\", \"life_expectancy\": 74.6, \"adult_mortality\": 128.0, \"infant_deaths\": 3, \"alcohol\": 0.53, \"percentage_expenditure\": 110.6779711, \"hepatitis_B\": 96.0, \"measles\": 195, \"BMI\": 38.5, \"under_five_deaths\": 4, \"polio\": 97.0, \"total_expenditure\": 4.2, \"diphtheria\": 97.0, \"hiv_aids\": 0.1, \"gdp\": 1882.2784199999999, \"population\": 2976724.0, \"thinness_1_19_years\": 7.8, \"thinness_5_9_years\": 7.6, \"income_composition_of_resources\": 0.779, \"schooling\": 12.9, \"continent\": \"Asia\"}, {\"country\": \"Maldives\", \"year\": 2013, \"status\": \"Developing\", \"life_expectancy\": 77.9, \"adult_mortality\": 64.0, \"infant_deaths\": 0, \"alcohol\": 0.01, \"percentage_expenditure\": 1626.5911859999999, \"hepatitis_B\": 99.0, \"measles\": 0, \"BMI\": 25.1, \"under_five_deaths\": 0, \"polio\": 99.0, \"total_expenditure\": 11.16, \"diphtheria\": 99.0, \"hiv_aids\": 0.1, \"gdp\": 7112.33575, \"population\": 393.0, \"thinness_1_19_years\": 13.7, \"thinness_5_9_years\": 13.8, \"income_composition_of_resources\": 0.6829999999999999, \"schooling\": 12.4, \"continent\": \"Asia\"}, {\"country\": \"Mali\", \"year\": 2013, \"status\": \"Developing\", \"life_expectancy\": 57.3, \"adult_mortality\": 275.0, \"infant_deaths\": 53, \"alcohol\": 0.01, \"percentage_expenditure\": 36.86104319, \"hepatitis_B\": 69.0, \"measles\": 221, \"BMI\": 22.5, \"under_five_deaths\": 86, \"polio\": 7.0, \"total_expenditure\": 6.58, \"diphtheria\": 69.0, \"hiv_aids\": 1.6, \"gdp\": 777.659139, \"population\": 16477818.0, \"thinness_1_19_years\": 8.1, \"thinness_5_9_years\": 7.9, \"income_composition_of_resources\": 0.42100000000000004, \"schooling\": 8.0, \"continent\": \"Africa\"}, {\"country\": \"Malta\", \"year\": 2013, \"status\": \"Developed\", \"life_expectancy\": 81.1, \"adult_mortality\": 57.0, \"infant_deaths\": 0, \"alcohol\": 8.58, \"percentage_expenditure\": 374.29472830000003, \"hepatitis_B\": 94.0, \"measles\": 0, \"BMI\": 68.8, \"under_five_deaths\": 0, \"polio\": 99.0, \"total_expenditure\": 9.89, \"diphtheria\": 99.0, \"hiv_aids\": 0.1, \"gdp\": 2393.1888, \"population\": 423374.0, \"thinness_1_19_years\": 0.8, \"thinness_5_9_years\": 0.7, \"income_composition_of_resources\": 0.828, \"schooling\": 14.2, \"continent\": \"Europe\"}, {\"country\": \"Marshall Islands\", \"year\": 2013, \"status\": \"Developing\", \"life_expectancy\": null, \"adult_mortality\": null, \"infant_deaths\": 0, \"alcohol\": 0.01, \"percentage_expenditure\": 871.8783173, \"hepatitis_B\": 8.0, \"measles\": 0, \"BMI\": 81.6, \"under_five_deaths\": 0, \"polio\": 79.0, \"total_expenditure\": 17.24, \"diphtheria\": 79.0, \"hiv_aids\": 0.1, \"gdp\": 3617.7523539999997, \"population\": null, \"thinness_1_19_years\": 0.1, \"thinness_5_9_years\": 0.1, \"income_composition_of_resources\": null, \"schooling\": 0.0, \"continent\": \"Oceania\"}, {\"country\": \"Mauritania\", \"year\": 2013, \"status\": \"Developing\", \"life_expectancy\": 62.7, \"adult_mortality\": 28.0, \"infant_deaths\": 8, \"alcohol\": 0.01, \"percentage_expenditure\": 8.88028118, \"hepatitis_B\": 8.0, \"measles\": 62, \"BMI\": 29.4, \"under_five_deaths\": 12, \"polio\": 8.0, \"total_expenditure\": 3.63, \"diphtheria\": 8.0, \"hiv_aids\": 1.1, \"gdp\": 145.57838, \"population\": 394617.0, \"thinness_1_19_years\": 8.1, \"thinness_5_9_years\": 7.9, \"income_composition_of_resources\": 0.501, \"schooling\": 8.2, \"continent\": \"Africa\"}, {\"country\": \"Mauritius\", \"year\": 2013, \"status\": \"Developing\", \"life_expectancy\": 74.1, \"adult_mortality\": 147.0, \"infant_deaths\": 0, \"alcohol\": 0.01, \"percentage_expenditure\": 917.4676279999999, \"hepatitis_B\": 98.0, \"measles\": 0, \"BMI\": 32.3, \"under_five_deaths\": 0, \"polio\": 98.0, \"total_expenditure\": 4.82, \"diphtheria\": 98.0, \"hiv_aids\": 0.1, \"gdp\": 9637.265, \"population\": 1258653.0, \"thinness_1_19_years\": 7.0, \"thinness_5_9_years\": 7.0, \"income_composition_of_resources\": 0.765, \"schooling\": 14.7, \"continent\": \"Africa\"}, {\"country\": \"Mexico\", \"year\": 2013, \"status\": \"Developing\", \"life_expectancy\": 76.6, \"adult_mortality\": 12.0, \"infant_deaths\": 32, \"alcohol\": 5.23, \"percentage_expenditure\": 150.408875, \"hepatitis_B\": 82.0, \"measles\": 0, \"BMI\": 62.1, \"under_five_deaths\": 37, \"polio\": 83.0, \"total_expenditure\": 6.3, \"diphtheria\": 83.0, \"hiv_aids\": 0.1, \"gdp\": 1298.86766, \"population\": 122535969.0, \"thinness_1_19_years\": 1.6, \"thinness_5_9_years\": 1.5, \"income_composition_of_resources\": 0.753, \"schooling\": 12.9, \"continent\": \"North America\"}, {\"country\": \"Micronesia, Federated States of\", \"year\": 2013, \"status\": \"Developing\", \"life_expectancy\": 69.2, \"adult_mortality\": 166.0, \"infant_deaths\": 0, \"alcohol\": 1.67, \"percentage_expenditure\": 0.0, \"hepatitis_B\": 83.0, \"measles\": 0, \"BMI\": 68.1, \"under_five_deaths\": 0, \"polio\": 81.0, \"total_expenditure\": 13.38, \"diphtheria\": 81.0, \"hiv_aids\": 0.1, \"gdp\": null, \"population\": null, \"thinness_1_19_years\": 0.2, \"thinness_5_9_years\": 0.2, \"income_composition_of_resources\": 0.6409999999999999, \"schooling\": 11.7, \"continent\": \"Oceania\"}, {\"country\": \"Monaco\", \"year\": 2013, \"status\": \"Developing\", \"life_expectancy\": null, \"adult_mortality\": null, \"infant_deaths\": 0, \"alcohol\": 0.01, \"percentage_expenditure\": 0.0, \"hepatitis_B\": 99.0, \"measles\": 0, \"BMI\": null, \"under_five_deaths\": 0, \"polio\": 99.0, \"total_expenditure\": 4.3, \"diphtheria\": 99.0, \"hiv_aids\": 0.1, \"gdp\": null, \"population\": null, \"thinness_1_19_years\": null, \"thinness_5_9_years\": null, \"income_composition_of_resources\": null, \"schooling\": null, \"continent\": \"Europe\"}, {\"country\": \"Mongolia\", \"year\": 2013, \"status\": \"Developing\", \"life_expectancy\": 68.1, \"adult_mortality\": 227.0, \"infant_deaths\": 1, \"alcohol\": 0.01, \"percentage_expenditure\": 241.1958645, \"hepatitis_B\": 98.0, \"measles\": 0, \"BMI\": 5.4, \"under_five_deaths\": 1, \"polio\": 98.0, \"total_expenditure\": 4.21, \"diphtheria\": 98.0, \"hiv_aids\": 0.1, \"gdp\": 4385.379355, \"population\": 286917.0, \"thinness_1_19_years\": 2.2, \"thinness_5_9_years\": 2.3, \"income_composition_of_resources\": 0.72, \"schooling\": 14.7, \"continent\": \"Asia\"}, {\"country\": \"Montenegro\", \"year\": 2013, \"status\": \"Developing\", \"life_expectancy\": 75.8, \"adult_mortality\": 19.0, \"infant_deaths\": 0, \"alcohol\": 0.01, \"percentage_expenditure\": 707.144691, \"hepatitis_B\": 9.0, \"measles\": 0, \"BMI\": 6.7, \"under_five_deaths\": 0, \"polio\": 94.0, \"total_expenditure\": 6.43, \"diphtheria\": 94.0, \"hiv_aids\": 0.1, \"gdp\": 7186.429787, \"population\": 62127.0, \"thinness_1_19_years\": 1.8, \"thinness_5_9_years\": 1.9, \"income_composition_of_resources\": 0.799, \"schooling\": 15.1, \"continent\": \"Europe\"}, {\"country\": \"Morocco\", \"year\": 2013, \"status\": \"Developing\", \"life_expectancy\": 73.9, \"adult_mortality\": 97.0, \"infant_deaths\": 18, \"alcohol\": 0.45, \"percentage_expenditure\": 179.8598949, \"hepatitis_B\": 99.0, \"measles\": 92, \"BMI\": 56.5, \"under_five_deaths\": 21, \"polio\": 99.0, \"total_expenditure\": 5.94, \"diphtheria\": 99.0, \"hiv_aids\": 0.1, \"gdp\": 3111.7628870000003, \"population\": 33824769.0, \"thinness_1_19_years\": 6.4, \"thinness_5_9_years\": 6.2, \"income_composition_of_resources\": 0.634, \"schooling\": 12.1, \"continent\": \"Africa\"}, {\"country\": \"Mozambique\", \"year\": 2013, \"status\": \"Developing\", \"life_expectancy\": 55.3, \"adult_mortality\": 46.0, \"infant_deaths\": 62, \"alcohol\": 1.16, \"percentage_expenditure\": 5.813338496, \"hepatitis_B\": 78.0, \"measles\": 8, \"BMI\": 21.8, \"under_five_deaths\": 87, \"polio\": 78.0, \"total_expenditure\": 5.9, \"diphtheria\": 78.0, \"hiv_aids\": 5.1, \"gdp\": 65.985681, \"population\": 26434372.0, \"thinness_1_19_years\": 3.6, \"thinness_5_9_years\": 3.5, \"income_composition_of_resources\": 0.405, \"schooling\": 9.1, \"continent\": \"Africa\"}, {\"country\": \"Myanmar\", \"year\": 2013, \"status\": \"Developing\", \"life_expectancy\": 66.2, \"adult_mortality\": 22.0, \"infant_deaths\": 42, \"alcohol\": 0.7, \"percentage_expenditure\": 38.33793462, \"hepatitis_B\": 75.0, \"measles\": 1010, \"BMI\": 22.1, \"under_five_deaths\": 55, \"polio\": 76.0, \"total_expenditure\": 2.16, \"diphtheria\": 75.0, \"hiv_aids\": 0.4, \"gdp\": 1168.83947, \"population\": 51448196.0, \"thinness_1_19_years\": 12.9, \"thinness_5_9_years\": 13.2, \"income_composition_of_resources\": 0.54, \"schooling\": 9.1, \"continent\": \"Asia\"}, {\"country\": \"Namibia\", \"year\": 2013, \"status\": \"Developing\", \"life_expectancy\": 66.1, \"adult_mortality\": 232.0, \"infant_deaths\": 3, \"alcohol\": 0.01, \"percentage_expenditure\": 760.6550553, \"hepatitis_B\": 89.0, \"measles\": 1028, \"BMI\": 34.1, \"under_five_deaths\": 3, \"polio\": 89.0, \"total_expenditure\": 8.53, \"diphtheria\": 89.0, \"hiv_aids\": 2.5, \"gdp\": 5488.131711999999, \"population\": 231652.0, \"thinness_1_19_years\": 9.0, \"thinness_5_9_years\": 8.9, \"income_composition_of_resources\": 0.625, \"schooling\": 11.6, \"continent\": \"Africa\"}, {\"country\": \"Nauru\", \"year\": 2013, \"status\": \"Developing\", \"life_expectancy\": null, \"adult_mortality\": null, \"infant_deaths\": 0, \"alcohol\": 0.01, \"percentage_expenditure\": 15.60659587, \"hepatitis_B\": 87.0, \"measles\": 0, \"BMI\": 87.3, \"under_five_deaths\": 0, \"polio\": 87.0, \"total_expenditure\": 4.65, \"diphtheria\": 87.0, \"hiv_aids\": 0.1, \"gdp\": 136.18321, \"population\": null, \"thinness_1_19_years\": 0.1, \"thinness_5_9_years\": 0.1, \"income_composition_of_resources\": null, \"schooling\": 9.6, \"continent\": \"Oceania\"}, {\"country\": \"Nepal\", \"year\": 2013, \"status\": \"Developing\", \"life_expectancy\": 69.3, \"adult_mortality\": 162.0, \"infant_deaths\": 19, \"alcohol\": 0.27, \"percentage_expenditure\": 80.15505125, \"hepatitis_B\": 92.0, \"measles\": 1861, \"BMI\": 18.0, \"under_five_deaths\": 24, \"polio\": 92.0, \"total_expenditure\": 5.69, \"diphtheria\": 92.0, \"hiv_aids\": 0.1, \"gdp\": 688.6172788, \"population\": 2798531.0, \"thinness_1_19_years\": 16.1, \"thinness_5_9_years\": 16.5, \"income_composition_of_resources\": 0.545, \"schooling\": 12.3, \"continent\": \"Asia\"}, {\"country\": \"Netherlands\", \"year\": 2013, \"status\": \"Developed\", \"life_expectancy\": 81.4, \"adult_mortality\": 6.0, \"infant_deaths\": 1, \"alcohol\": 8.68, \"percentage_expenditure\": 1475.030397, \"hepatitis_B\": 51.0, \"measles\": 2632, \"BMI\": 61.0, \"under_five_deaths\": 1, \"polio\": 97.0, \"total_expenditure\": 11.4, \"diphtheria\": 97.0, \"hiv_aids\": 0.1, \"gdp\": 51574.48942, \"population\": 1684432.0, \"thinness_1_19_years\": 1.0, \"thinness_5_9_years\": 0.9, \"income_composition_of_resources\": 0.922, \"schooling\": 18.1, \"continent\": \"Europe\"}, {\"country\": \"New Zealand\", \"year\": 2013, \"status\": \"Developed\", \"life_expectancy\": 81.3, \"adult_mortality\": 69.0, \"infant_deaths\": 0, \"alcohol\": 9.18, \"percentage_expenditure\": 10019.0763, \"hepatitis_B\": 93.0, \"measles\": 8, \"BMI\": 66.4, \"under_five_deaths\": 0, \"polio\": 92.0, \"total_expenditure\": 11.17, \"diphtheria\": 92.0, \"hiv_aids\": 0.1, \"gdp\": 42889.88141, \"population\": null, \"thinness_1_19_years\": 0.3, \"thinness_5_9_years\": 0.3, \"income_composition_of_resources\": 0.9079999999999999, \"schooling\": 19.3, \"continent\": \"Oceania\"}, {\"country\": \"Nicaragua\", \"year\": 2013, \"status\": \"Developing\", \"life_expectancy\": 73.9, \"adult_mortality\": 157.0, \"infant_deaths\": 2, \"alcohol\": 3.58, \"percentage_expenditure\": 366.48418039999996, \"hepatitis_B\": 98.0, \"measles\": 0, \"BMI\": 52.4, \"under_five_deaths\": 3, \"polio\": 99.0, \"total_expenditure\": 8.43, \"diphtheria\": 98.0, \"hiv_aids\": 0.1, \"gdp\": 1847.1984899999998, \"population\": 5945747.0, \"thinness_1_19_years\": 1.8, \"thinness_5_9_years\": 1.7, \"income_composition_of_resources\": 0.63, \"schooling\": 11.5, \"continent\": \"North America\"}, {\"country\": \"Niger\", \"year\": 2013, \"status\": \"Developing\", \"life_expectancy\": 69.0, \"adult_mortality\": 227.0, \"infant_deaths\": 49, \"alcohol\": 0.01, \"percentage_expenditure\": 31.50243237, \"hepatitis_B\": 67.0, \"measles\": 1224, \"BMI\": 18.5, \"under_five_deaths\": 89, \"polio\": 56.0, \"total_expenditure\": 5.9, \"diphtheria\": 67.0, \"hiv_aids\": 0.6, \"gdp\": 416.14838, \"population\": 18426372.0, \"thinness_1_19_years\": 1.0, \"thinness_5_9_years\": 9.9, \"income_composition_of_resources\": 0.341, \"schooling\": 5.3, \"continent\": \"Africa\"}, {\"country\": \"Nigeria\", \"year\": 2013, \"status\": \"Developing\", \"life_expectancy\": 53.2, \"adult_mortality\": 367.0, \"infant_deaths\": 498, \"alcohol\": 8.3, \"percentage_expenditure\": 194.2032879, \"hepatitis_B\": 46.0, \"measles\": 52852, \"BMI\": 24.1, \"under_five_deaths\": 773, \"polio\": 46.0, \"total_expenditure\": 3.7, \"diphtheria\": 46.0, \"hiv_aids\": 3.9, \"gdp\": 2996.96432, \"population\": 17182933.0, \"thinness_1_19_years\": 1.4, \"thinness_5_9_years\": 1.2, \"income_composition_of_resources\": 0.514, \"schooling\": 9.8, \"continent\": \"Africa\"}, {\"country\": \"Niue\", \"year\": 2013, \"status\": \"Developing\", \"life_expectancy\": null, \"adult_mortality\": null, \"infant_deaths\": 0, \"alcohol\": 0.01, \"percentage_expenditure\": 0.0, \"hepatitis_B\": 99.0, \"measles\": 0, \"BMI\": 77.3, \"under_five_deaths\": 0, \"polio\": 99.0, \"total_expenditure\": 7.2, \"diphtheria\": 99.0, \"hiv_aids\": 0.1, \"gdp\": null, \"population\": null, \"thinness_1_19_years\": 0.1, \"thinness_5_9_years\": 0.1, \"income_composition_of_resources\": null, \"schooling\": null, \"continent\": \"Oceania\"}, {\"country\": \"Norway\", \"year\": 2013, \"status\": \"Developed\", \"life_expectancy\": 81.5, \"adult_mortality\": 62.0, \"infant_deaths\": 0, \"alcohol\": 6.21, \"percentage_expenditure\": 234.782883, \"hepatitis_B\": null, \"measles\": 8, \"BMI\": 6.3, \"under_five_deaths\": 0, \"polio\": 94.0, \"total_expenditure\": 9.39, \"diphtheria\": 94.0, \"hiv_aids\": 0.1, \"gdp\": 1291.435, \"population\": 579623.0, \"thinness_1_19_years\": 0.8, \"thinness_5_9_years\": 0.7, \"income_composition_of_resources\": 0.9420000000000001, \"schooling\": 17.5, \"continent\": \"Europe\"}, {\"country\": \"Oman\", \"year\": 2013, \"status\": \"Developing\", \"life_expectancy\": 76.2, \"adult_mortality\": 12.0, \"infant_deaths\": 1, \"alcohol\": 0.46, \"percentage_expenditure\": 1154.893473, \"hepatitis_B\": 98.0, \"measles\": 0, \"BMI\": 52.8, \"under_five_deaths\": 1, \"polio\": 99.0, \"total_expenditure\": 2.76, \"diphtheria\": 98.0, \"hiv_aids\": 0.1, \"gdp\": 21268.7564, \"population\": null, \"thinness_1_19_years\": 7.0, \"thinness_5_9_years\": 6.8, \"income_composition_of_resources\": 0.7959999999999999, \"schooling\": 13.7, \"continent\": \"Asia\"}, {\"country\": \"Pakistan\", \"year\": 2013, \"status\": \"Developing\", \"life_expectancy\": 66.0, \"adult_mortality\": 163.0, \"infant_deaths\": 365, \"alcohol\": 0.04, \"percentage_expenditure\": 60.18648815, \"hepatitis_B\": 72.0, \"measles\": 8749, \"BMI\": 23.9, \"under_five_deaths\": 450, \"polio\": 72.0, \"total_expenditure\": 2.7, \"diphtheria\": 72.0, \"hiv_aids\": 0.1, \"gdp\": 1272.4416099999999, \"population\": 181712595.0, \"thinness_1_19_years\": 19.6, \"thinness_5_9_years\": 2.0, \"income_composition_of_resources\": 0.5379999999999999, \"schooling\": 7.7, \"continent\": \"Asia\"}, {\"country\": \"Palau\", \"year\": 2013, \"status\": \"Developing\", \"life_expectancy\": null, \"adult_mortality\": null, \"infant_deaths\": 0, \"alcohol\": null, \"percentage_expenditure\": 344.6906308, \"hepatitis_B\": 99.0, \"measles\": 0, \"BMI\": 83.3, \"under_five_deaths\": 0, \"polio\": 99.0, \"total_expenditure\": 9.27, \"diphtheria\": 99.0, \"hiv_aids\": 0.1, \"gdp\": 1932.1223699999998, \"population\": 292.0, \"thinness_1_19_years\": 0.1, \"thinness_5_9_years\": 0.1, \"income_composition_of_resources\": 0.779, \"schooling\": 14.2, \"continent\": \"Oceania\"}, {\"country\": \"Panama\", \"year\": 2013, \"status\": \"Developing\", \"life_expectancy\": 77.5, \"adult_mortality\": 118.0, \"infant_deaths\": 1, \"alcohol\": 6.89, \"percentage_expenditure\": 1694.467075, \"hepatitis_B\": 8.0, \"measles\": 0, \"BMI\": 56.3, \"under_five_deaths\": 1, \"polio\": 81.0, \"total_expenditure\": 8.9, \"diphtheria\": 8.0, \"hiv_aids\": 0.1, \"gdp\": 11685.97983, \"population\": 3838462.0, \"thinness_1_19_years\": 1.9, \"thinness_5_9_years\": 1.9, \"income_composition_of_resources\": 0.773, \"schooling\": 12.9, \"continent\": \"North America\"}, {\"country\": \"Papua New Guinea\", \"year\": 2013, \"status\": \"Developing\", \"life_expectancy\": 62.4, \"adult_mortality\": 281.0, \"infant_deaths\": 10, \"alcohol\": 0.01, \"percentage_expenditure\": 25.70881695, \"hepatitis_B\": 73.0, \"measles\": 12, \"BMI\": 47.2, \"under_five_deaths\": 13, \"polio\": 8.0, \"total_expenditure\": 4.78, \"diphtheria\": 79.0, \"hiv_aids\": 0.8, \"gdp\": 229.95363999999998, \"population\": 7592865.0, \"thinness_1_19_years\": 1.3, \"thinness_5_9_years\": 1.3, \"income_composition_of_resources\": 0.506, \"schooling\": 10.0, \"continent\": \"Oceania\"}, {\"country\": \"Paraguay\", \"year\": 2013, \"status\": \"Developing\", \"life_expectancy\": 73.8, \"adult_mortality\": 148.0, \"infant_deaths\": 3, \"alcohol\": 5.03, \"percentage_expenditure\": 573.4346982000001, \"hepatitis_B\": 86.0, \"measles\": 0, \"BMI\": 48.6, \"under_five_deaths\": 3, \"polio\": 8.0, \"total_expenditure\": 1.49, \"diphtheria\": 86.0, \"hiv_aids\": 0.2, \"gdp\": 4479.9585799999995, \"population\": 646574.0, \"thinness_1_19_years\": 2.0, \"thinness_5_9_years\": 1.9, \"income_composition_of_resources\": 0.679, \"schooling\": 12.3, \"continent\": \"South America\"}, {\"country\": \"Peru\", \"year\": 2013, \"status\": \"Developing\", \"life_expectancy\": 75.3, \"adult_mortality\": 125.0, \"infant_deaths\": 8, \"alcohol\": 5.38, \"percentage_expenditure\": 946.6521164999999, \"hepatitis_B\": 88.0, \"measles\": 0, \"BMI\": 54.2, \"under_five_deaths\": 11, \"polio\": 71.0, \"total_expenditure\": 5.23, \"diphtheria\": 88.0, \"hiv_aids\": 0.1, \"gdp\": 6583.116247999999, \"population\": 3565716.0, \"thinness_1_19_years\": 1.1, \"thinness_5_9_years\": 1.1, \"income_composition_of_resources\": 0.731, \"schooling\": 13.4, \"continent\": \"South America\"}, {\"country\": \"Philippines\", \"year\": 2013, \"status\": \"Developing\", \"life_expectancy\": 68.1, \"adult_mortality\": 219.0, \"infant_deaths\": 55, \"alcohol\": 4.61, \"percentage_expenditure\": 24.58973399, \"hepatitis_B\": 89.0, \"measles\": 2920, \"BMI\": 24.3, \"under_five_deaths\": 69, \"polio\": 84.0, \"total_expenditure\": 4.56, \"diphtheria\": 89.0, \"hiv_aids\": 0.1, \"gdp\": 276.289146, \"population\": 9848132.0, \"thinness_1_19_years\": 1.0, \"thinness_5_9_years\": 9.7, \"income_composition_of_resources\": 0.6709999999999999, \"schooling\": 11.7, \"continent\": \"Asia\"}, {\"country\": \"Poland\", \"year\": 2013, \"status\": \"Developed\", \"life_expectancy\": 77.1, \"adult_mortality\": 12.0, \"infant_deaths\": 2, \"alcohol\": 11.63, \"percentage_expenditure\": 23.43533487, \"hepatitis_B\": 96.0, \"measles\": 84, \"BMI\": 6.4, \"under_five_deaths\": 2, \"polio\": 95.0, \"total_expenditure\": 6.4, \"diphtheria\": 99.0, \"hiv_aids\": 0.1, \"gdp\": 1378.54911, \"population\": 384196.0, \"thinness_1_19_years\": 2.0, \"thinness_5_9_years\": 2.1, \"income_composition_of_resources\": 0.838, \"schooling\": 15.4, \"continent\": \"Europe\"}, {\"country\": \"Portugal\", \"year\": 2013, \"status\": \"Developed\", \"life_expectancy\": 86.0, \"adult_mortality\": 79.0, \"infant_deaths\": 0, \"alcohol\": 10.0, \"percentage_expenditure\": 2698.01817, \"hepatitis_B\": 98.0, \"measles\": 1, \"BMI\": 6.2, \"under_five_deaths\": 0, \"polio\": 98.0, \"total_expenditure\": 9.55, \"diphtheria\": 98.0, \"hiv_aids\": 0.1, \"gdp\": 21618.73534, \"population\": 1457295.0, \"thinness_1_19_years\": 0.7, \"thinness_5_9_years\": 0.5, \"income_composition_of_resources\": 0.8270000000000001, \"schooling\": 16.3, \"continent\": \"Europe\"}, {\"country\": \"Qatar\", \"year\": 2013, \"status\": \"Developing\", \"life_expectancy\": 77.9, \"adult_mortality\": 7.0, \"infant_deaths\": 0, \"alcohol\": 1.2, \"percentage_expenditure\": 515.0734795, \"hepatitis_B\": 97.0, \"measles\": 73, \"BMI\": 67.7, \"under_five_deaths\": 0, \"polio\": 99.0, \"total_expenditure\": 2.15, \"diphtheria\": 97.0, \"hiv_aids\": 0.1, \"gdp\": 8834.879579999999, \"population\": null, \"thinness_1_19_years\": 5.1, \"thinness_5_9_years\": 4.7, \"income_composition_of_resources\": 0.843, \"schooling\": 13.4, \"continent\": \"Asia\"}, {\"country\": \"Korea, Republic of\", \"year\": 2013, \"status\": \"Developing\", \"life_expectancy\": 81.7, \"adult_mortality\": 68.0, \"infant_deaths\": 1, \"alcohol\": 9.33, \"percentage_expenditure\": 0.0, \"hepatitis_B\": 99.0, \"measles\": 107, \"BMI\": 3.8, \"under_five_deaths\": 2, \"polio\": 99.0, \"total_expenditure\": 7.2, \"diphtheria\": 99.0, \"hiv_aids\": 0.1, \"gdp\": null, \"population\": null, \"thinness_1_19_years\": 1.5, \"thinness_5_9_years\": 1.0, \"income_composition_of_resources\": null, \"schooling\": null, \"continent\": \"Asia\"}, {\"country\": \"Republic of Moldova\", \"year\": 2013, \"status\": \"Developing\", \"life_expectancy\": 71.7, \"adult_mortality\": 163.0, \"infant_deaths\": 1, \"alcohol\": 10.49, \"percentage_expenditure\": 0.0, \"hepatitis_B\": 91.0, \"measles\": 27, \"BMI\": 52.1, \"under_five_deaths\": 1, \"polio\": 92.0, \"total_expenditure\": 1.5, \"diphtheria\": 9.0, \"hiv_aids\": 0.1, \"gdp\": null, \"population\": null, \"thinness_1_19_years\": 2.7, \"thinness_5_9_years\": 2.9, \"income_composition_of_resources\": null, \"schooling\": null, \"continent\": \"Europe\"}, {\"country\": \"Romania\", \"year\": 2013, \"status\": \"Developed\", \"life_expectancy\": 74.6, \"adult_mortality\": 138.0, \"infant_deaths\": 2, \"alcohol\": 9.59, \"percentage_expenditure\": 1230.748231, \"hepatitis_B\": 96.0, \"measles\": 1159, \"BMI\": 59.2, \"under_five_deaths\": 2, \"polio\": 88.0, \"total_expenditure\": 5.6, \"diphtheria\": 92.0, \"hiv_aids\": 0.1, \"gdp\": 9585.266593, \"population\": 19983693.0, \"thinness_1_19_years\": 2.7, \"thinness_5_9_years\": 2.9, \"income_composition_of_resources\": 0.794, \"schooling\": 14.7, \"continent\": \"Europe\"}, {\"country\": \"Russian Federation\", \"year\": 2013, \"status\": \"Developing\", \"life_expectancy\": 70.0, \"adult_mortality\": 229.0, \"infant_deaths\": 14, \"alcohol\": 10.58, \"percentage_expenditure\": 1529.497771, \"hepatitis_B\": 97.0, \"measles\": 2339, \"BMI\": 59.3, \"under_five_deaths\": 16, \"polio\": 98.0, \"total_expenditure\": 7.9, \"diphtheria\": 97.0, \"hiv_aids\": 0.2, \"gdp\": 15543.67653, \"population\": 14356911.0, \"thinness_1_19_years\": 2.3, \"thinness_5_9_years\": 2.3, \"income_composition_of_resources\": 0.799, \"schooling\": 14.6, \"continent\": \"Europe\"}, {\"country\": \"Rwanda\", \"year\": 2013, \"status\": \"Developing\", \"life_expectancy\": 65.2, \"adult_mortality\": 233.0, \"infant_deaths\": 12, \"alcohol\": 0.01, \"percentage_expenditure\": 11.71090655, \"hepatitis_B\": 98.0, \"measles\": 17, \"BMI\": 2.1, \"under_five_deaths\": 17, \"polio\": 98.0, \"total_expenditure\": 7.69, \"diphtheria\": 98.0, \"hiv_aids\": 0.5, \"gdp\": 688.8768557, \"population\": 1165151.0, \"thinness_1_19_years\": 5.9, \"thinness_5_9_years\": 5.9, \"income_composition_of_resources\": 0.485, \"schooling\": 10.8, \"continent\": \"Africa\"}, {\"country\": \"Saint Kitts and Nevis\", \"year\": 2013, \"status\": \"Developing\", \"life_expectancy\": null, \"adult_mortality\": null, \"infant_deaths\": 0, \"alcohol\": 8.54, \"percentage_expenditure\": 0.0, \"hepatitis_B\": 97.0, \"measles\": 0, \"BMI\": 5.2, \"under_five_deaths\": 0, \"polio\": 96.0, \"total_expenditure\": 6.14, \"diphtheria\": 96.0, \"hiv_aids\": 0.1, \"gdp\": null, \"population\": null, \"thinness_1_19_years\": 3.7, \"thinness_5_9_years\": 3.6, \"income_composition_of_resources\": 0.7490000000000001, \"schooling\": 13.4, \"continent\": \"North America\"}, {\"country\": \"Saint Lucia\", \"year\": 2013, \"status\": \"Developing\", \"life_expectancy\": 74.8, \"adult_mortality\": 141.0, \"infant_deaths\": 0, \"alcohol\": 9.73, \"percentage_expenditure\": 0.0, \"hepatitis_B\": 99.0, \"measles\": 0, \"BMI\": 45.9, \"under_five_deaths\": 0, \"polio\": 99.0, \"total_expenditure\": 7.85, \"diphtheria\": 99.0, \"hiv_aids\": 0.1, \"gdp\": null, \"population\": null, \"thinness_1_19_years\": 4.3, \"thinness_5_9_years\": 4.3, \"income_composition_of_resources\": 0.7340000000000001, \"schooling\": 13.1, \"continent\": \"North America\"}, {\"country\": \"Saint Vincent and the Grenadines\", \"year\": 2013, \"status\": \"Developing\", \"life_expectancy\": 72.7, \"adult_mortality\": 161.0, \"infant_deaths\": 0, \"alcohol\": 7.07, \"percentage_expenditure\": 0.0, \"hepatitis_B\": 97.0, \"measles\": 0, \"BMI\": 52.2, \"under_five_deaths\": 0, \"polio\": 97.0, \"total_expenditure\": 5.21, \"diphtheria\": 97.0, \"hiv_aids\": 0.1, \"gdp\": null, \"population\": null, \"thinness_1_19_years\": 3.5, \"thinness_5_9_years\": 3.4, \"income_composition_of_resources\": 0.7170000000000001, \"schooling\": 13.3, \"continent\": \"North America\"}, {\"country\": \"Samoa\", \"year\": 2013, \"status\": \"Developing\", \"life_expectancy\": 73.6, \"adult_mortality\": 131.0, \"infant_deaths\": 0, \"alcohol\": 0.01, \"percentage_expenditure\": 698.3522786, \"hepatitis_B\": 6.0, \"measles\": 0, \"BMI\": 73.8, \"under_five_deaths\": 0, \"polio\": 62.0, \"total_expenditure\": 6.91, \"diphtheria\": 67.0, \"hiv_aids\": 0.1, \"gdp\": 4219.6512299999995, \"population\": 19757.0, \"thinness_1_19_years\": 0.2, \"thinness_5_9_years\": 0.1, \"income_composition_of_resources\": 0.7, \"schooling\": 12.9, \"continent\": \"Oceania\"}, {\"country\": \"San Marino\", \"year\": 2013, \"status\": \"Developing\", \"life_expectancy\": null, \"adult_mortality\": null, \"infant_deaths\": 0, \"alcohol\": 0.01, \"percentage_expenditure\": 0.0, \"hepatitis_B\": 69.0, \"measles\": 0, \"BMI\": null, \"under_five_deaths\": 0, \"polio\": 69.0, \"total_expenditure\": 6.5, \"diphtheria\": 69.0, \"hiv_aids\": 0.1, \"gdp\": null, \"population\": null, \"thinness_1_19_years\": null, \"thinness_5_9_years\": null, \"income_composition_of_resources\": null, \"schooling\": 15.1, \"continent\": \"Europe\"}, {\"country\": \"Sao Tome and Principe\", \"year\": 2013, \"status\": \"Developing\", \"life_expectancy\": 67.1, \"adult_mortality\": 192.0, \"infant_deaths\": 0, \"alcohol\": 0.01, \"percentage_expenditure\": 200.66009880000001, \"hepatitis_B\": 97.0, \"measles\": 0, \"BMI\": 29.3, \"under_five_deaths\": 0, \"polio\": 97.0, \"total_expenditure\": 9.76, \"diphtheria\": 97.0, \"hiv_aids\": 0.2, \"gdp\": 1619.532678, \"population\": 18745.0, \"thinness_1_19_years\": 5.7, \"thinness_5_9_years\": 5.5, \"income_composition_of_resources\": 0.5589999999999999, \"schooling\": 11.0, \"continent\": \"Africa\"}, {\"country\": \"Saudi Arabia\", \"year\": 2013, \"status\": \"Developing\", \"life_expectancy\": 74.3, \"adult_mortality\": 89.0, \"infant_deaths\": 8, \"alcohol\": 0.09, \"percentage_expenditure\": 2047.113102, \"hepatitis_B\": 98.0, \"measles\": 1164, \"BMI\": 66.4, \"under_five_deaths\": 9, \"polio\": 98.0, \"total_expenditure\": 4.25, \"diphtheria\": 98.0, \"hiv_aids\": 0.1, \"gdp\": 24934.386140000002, \"population\": null, \"thinness_1_19_years\": 7.6, \"thinness_5_9_years\": 7.5, \"income_composition_of_resources\": 0.83, \"schooling\": 15.2, \"continent\": \"Asia\"}, {\"country\": \"Senegal\", \"year\": 2013, \"status\": \"Developing\", \"life_expectancy\": 66.0, \"adult_mortality\": 196.0, \"infant_deaths\": 20, \"alcohol\": 0.26, \"percentage_expenditure\": 11.8385319, \"hepatitis_B\": 92.0, \"measles\": 17, \"BMI\": 23.2, \"under_five_deaths\": 28, \"polio\": 89.0, \"total_expenditure\": 4.51, \"diphtheria\": 92.0, \"hiv_aids\": 0.3, \"gdp\": 148.912351, \"population\": 141232.0, \"thinness_1_19_years\": 9.9, \"thinness_5_9_years\": 9.7, \"income_composition_of_resources\": 0.474, \"schooling\": 8.7, \"continent\": \"Africa\"}, {\"country\": \"Serbia\", \"year\": 2013, \"status\": \"Developing\", \"life_expectancy\": 75.3, \"adult_mortality\": 122.0, \"infant_deaths\": 1, \"alcohol\": 9.16, \"percentage_expenditure\": 880.6403367, \"hepatitis_B\": 91.0, \"measles\": 1, \"BMI\": 58.9, \"under_five_deaths\": 1, \"polio\": 97.0, \"total_expenditure\": 1.12, \"diphtheria\": 95.0, \"hiv_aids\": 0.1, \"gdp\": 6353.826383, \"population\": 7164132.0, \"thinness_1_19_years\": 2.1, \"thinness_5_9_years\": 2.1, \"income_composition_of_resources\": 0.7659999999999999, \"schooling\": 14.1, \"continent\": \"Europe\"}, {\"country\": \"Seychelles\", \"year\": 2013, \"status\": \"Developing\", \"life_expectancy\": 72.9, \"adult_mortality\": 172.0, \"infant_deaths\": 0, \"alcohol\": 0.01, \"percentage_expenditure\": 1521.672751, \"hepatitis_B\": 99.0, \"measles\": 0, \"BMI\": 35.5, \"under_five_deaths\": 0, \"polio\": 98.0, \"total_expenditure\": 3.58, \"diphtheria\": 98.0, \"hiv_aids\": 0.1, \"gdp\": 15687.34795, \"population\": 89949.0, \"thinness_1_19_years\": 5.7, \"thinness_5_9_years\": 6.1, \"income_composition_of_resources\": 0.762, \"schooling\": 13.5, \"continent\": \"Africa\"}, {\"country\": \"Sierra Leone\", \"year\": 2013, \"status\": \"Developing\", \"life_expectancy\": 54.0, \"adult_mortality\": 47.0, \"infant_deaths\": 23, \"alcohol\": 0.01, \"percentage_expenditure\": 1.321464076, \"hepatitis_B\": 92.0, \"measles\": 15, \"BMI\": 23.3, \"under_five_deaths\": 33, \"polio\": 92.0, \"total_expenditure\": 11.59, \"diphtheria\": 92.0, \"hiv_aids\": 0.8, \"gdp\": 71.8186998, \"population\": 692279.0, \"thinness_1_19_years\": 7.7, \"thinness_5_9_years\": 7.6, \"income_composition_of_resources\": 0.413, \"schooling\": 9.3, \"continent\": \"Africa\"}, {\"country\": \"Singapore\", \"year\": 2013, \"status\": \"Developed\", \"life_expectancy\": 82.7, \"adult_mortality\": 57.0, \"infant_deaths\": 0, \"alcohol\": 1.83, \"percentage_expenditure\": 714.3441018999999, \"hepatitis_B\": 97.0, \"measles\": 138, \"BMI\": 32.7, \"under_five_deaths\": 0, \"polio\": 97.0, \"total_expenditure\": 4.53, \"diphtheria\": 97.0, \"hiv_aids\": 0.1, \"gdp\": 5629.1891399999995, \"population\": null, \"thinness_1_19_years\": 2.2, \"thinness_5_9_years\": 2.2, \"income_composition_of_resources\": 0.92, \"schooling\": 15.4, \"continent\": \"Asia\"}, {\"country\": \"Slovakia\", \"year\": 2013, \"status\": \"Developed\", \"life_expectancy\": 76.1, \"adult_mortality\": 114.0, \"infant_deaths\": 0, \"alcohol\": 9.89, \"percentage_expenditure\": 0.0, \"hepatitis_B\": 98.0, \"measles\": 0, \"BMI\": 57.8, \"under_five_deaths\": 0, \"polio\": 98.0, \"total_expenditure\": 8.0, \"diphtheria\": 98.0, \"hiv_aids\": 0.1, \"gdp\": null, \"population\": null, \"thinness_1_19_years\": 1.2, \"thinness_5_9_years\": 1.3, \"income_composition_of_resources\": 0.838, \"schooling\": 15.0, \"continent\": \"Europe\"}, {\"country\": \"Slovenia\", \"year\": 2013, \"status\": \"Developed\", \"life_expectancy\": 85.0, \"adult_mortality\": 78.0, \"infant_deaths\": 0, \"alcohol\": 9.53, \"percentage_expenditure\": 259.7786785, \"hepatitis_B\": null, \"measles\": 1, \"BMI\": 58.9, \"under_five_deaths\": 0, \"polio\": 95.0, \"total_expenditure\": 9.29, \"diphtheria\": 95.0, \"hiv_aids\": 0.1, \"gdp\": 2315.31799, \"population\": 259953.0, \"thinness_1_19_years\": 1.4, \"thinness_5_9_years\": 1.4, \"income_composition_of_resources\": 0.878, \"schooling\": 16.8, \"continent\": \"Europe\"}, {\"country\": \"Solomon Islands\", \"year\": 2013, \"status\": \"Developing\", \"life_expectancy\": 68.8, \"adult_mortality\": 182.0, \"infant_deaths\": 0, \"alcohol\": 0.01, \"percentage_expenditure\": 24.73328608, \"hepatitis_B\": 94.0, \"measles\": 0, \"BMI\": 48.9, \"under_five_deaths\": 0, \"polio\": 99.0, \"total_expenditure\": 5.42, \"diphtheria\": 94.0, \"hiv_aids\": 0.1, \"gdp\": 188.5159, \"population\": 563513.0, \"thinness_1_19_years\": 1.1, \"thinness_5_9_years\": 1.2, \"income_composition_of_resources\": 0.509, \"schooling\": 9.5, \"continent\": \"Oceania\"}, {\"country\": \"Somalia\", \"year\": 2013, \"status\": \"Developing\", \"life_expectancy\": 54.2, \"adult_mortality\": 318.0, \"infant_deaths\": 51, \"alcohol\": 0.01, \"percentage_expenditure\": 0.0, \"hepatitis_B\": 42.0, \"measles\": 3173, \"BMI\": 23.3, \"under_five_deaths\": 81, \"polio\": 47.0, \"total_expenditure\": null, \"diphtheria\": 42.0, \"hiv_aids\": 0.8, \"gdp\": 47.5432354, \"population\": null, \"thinness_1_19_years\": 6.8, \"thinness_5_9_years\": 6.6, \"income_composition_of_resources\": null, \"schooling\": null, \"continent\": \"Africa\"}, {\"country\": \"South Africa\", \"year\": 2013, \"status\": \"Developing\", \"life_expectancy\": 69.0, \"adult_mortality\": 371.0, \"infant_deaths\": 43, \"alcohol\": 7.34, \"percentage_expenditure\": 978.5905287, \"hepatitis_B\": 7.0, \"measles\": 25, \"BMI\": 49.5, \"under_five_deaths\": 54, \"polio\": 73.0, \"total_expenditure\": 8.78, \"diphtheria\": 73.0, \"hiv_aids\": 4.5, \"gdp\": 6876.953820999999, \"population\": 53311955.61, \"thinness_1_19_years\": 5.4, \"thinness_5_9_years\": 6.5, \"income_composition_of_resources\": 0.652, \"schooling\": 12.8, \"continent\": \"Africa\"}, {\"country\": \"South Sudan\", \"year\": 2013, \"status\": \"Developing\", \"life_expectancy\": 56.4, \"adult_mortality\": 345.0, \"infant_deaths\": 26, \"alcohol\": null, \"percentage_expenditure\": 47.44453, \"hepatitis_B\": null, \"measles\": 525, \"BMI\": null, \"under_five_deaths\": 40, \"polio\": 5.0, \"total_expenditure\": 2.62, \"diphtheria\": 45.0, \"hiv_aids\": 3.6, \"gdp\": 1186.11325, \"population\": 1117749.0, \"thinness_1_19_years\": null, \"thinness_5_9_years\": null, \"income_composition_of_resources\": 0.41700000000000004, \"schooling\": 4.9, \"continent\": \"Africa\"}, {\"country\": \"Spain\", \"year\": 2013, \"status\": \"Developed\", \"life_expectancy\": 82.4, \"adult_mortality\": 6.0, \"infant_deaths\": 1, \"alcohol\": 9.25, \"percentage_expenditure\": 423.680459, \"hepatitis_B\": 95.0, \"measles\": 131, \"BMI\": 65.4, \"under_five_deaths\": 2, \"polio\": 96.0, \"total_expenditure\": 9.1, \"diphtheria\": 96.0, \"hiv_aids\": 0.1, \"gdp\": 2921.9342, \"population\": 466245.0, \"thinness_1_19_years\": 0.6, \"thinness_5_9_years\": 0.5, \"income_composition_of_resources\": 0.8740000000000001, \"schooling\": 17.5, \"continent\": \"Europe\"}, {\"country\": \"Sri Lanka\", \"year\": 2013, \"status\": \"Developing\", \"life_expectancy\": 74.6, \"adult_mortality\": 142.0, \"infant_deaths\": 3, \"alcohol\": 2.56, \"percentage_expenditure\": 41.62053588, \"hepatitis_B\": 99.0, \"measles\": 2107, \"BMI\": 21.9, \"under_five_deaths\": 3, \"polio\": 99.0, \"total_expenditure\": 3.68, \"diphtheria\": 99.0, \"hiv_aids\": 0.1, \"gdp\": 361.289374, \"population\": 2585.0, \"thinness_1_19_years\": 15.2, \"thinness_5_9_years\": 15.1, \"income_composition_of_resources\": 0.757, \"schooling\": 13.8, \"continent\": \"Asia\"}, {\"country\": \"Sudan\", \"year\": 2013, \"status\": \"Developing\", \"life_expectancy\": 63.5, \"adult_mortality\": 232.0, \"infant_deaths\": 60, \"alcohol\": 0.01, \"percentage_expenditure\": 227.8353208, \"hepatitis_B\": 93.0, \"measles\": 2813, \"BMI\": null, \"under_five_deaths\": 88, \"polio\": 93.0, \"total_expenditure\": 8.42, \"diphtheria\": 93.0, \"hiv_aids\": 0.3, \"gdp\": 1955.66799, \"population\": 36849918.0, \"thinness_1_19_years\": null, \"thinness_5_9_years\": null, \"income_composition_of_resources\": 0.478, \"schooling\": 7.0, \"continent\": \"Africa\"}, {\"country\": \"Suriname\", \"year\": 2013, \"status\": \"Developing\", \"life_expectancy\": 71.2, \"adult_mortality\": 179.0, \"infant_deaths\": 0, \"alcohol\": 6.02, \"percentage_expenditure\": 1122.972967, \"hepatitis_B\": 86.0, \"measles\": 0, \"BMI\": 57.0, \"under_five_deaths\": 0, \"polio\": 86.0, \"total_expenditure\": 5.96, \"diphtheria\": 86.0, \"hiv_aids\": 0.4, \"gdp\": 9484.56898, \"population\": 54254.0, \"thinness_1_19_years\": 3.5, \"thinness_5_9_years\": 3.5, \"income_composition_of_resources\": 0.7190000000000001, \"schooling\": 12.7, \"continent\": \"South America\"}, {\"country\": \"Swaziland\", \"year\": 2013, \"status\": \"Developing\", \"life_expectancy\": 57.6, \"adult_mortality\": 393.0, \"infant_deaths\": 2, \"alcohol\": 0.01, \"percentage_expenditure\": 708.9556647999999, \"hepatitis_B\": 98.0, \"measles\": 0, \"BMI\": 31.2, \"under_five_deaths\": 3, \"polio\": 98.0, \"total_expenditure\": 9.66, \"diphtheria\": 98.0, \"hiv_aids\": 9.8, \"gdp\": 3598.7597200000005, \"population\": 1271456.0, \"thinness_1_19_years\": 4.5, \"thinness_5_9_years\": 4.6, \"income_composition_of_resources\": 0.539, \"schooling\": 11.4, \"continent\": \"Africa\"}, {\"country\": \"Sweden\", \"year\": 2013, \"status\": \"Developed\", \"life_expectancy\": 81.9, \"adult_mortality\": 57.0, \"infant_deaths\": 0, \"alcohol\": 7.3, \"percentage_expenditure\": 1212.666327, \"hepatitis_B\": 67.0, \"measles\": 51, \"BMI\": 58.5, \"under_five_deaths\": 0, \"polio\": 98.0, \"total_expenditure\": 11.97, \"diphtheria\": 98.0, \"hiv_aids\": 0.1, \"gdp\": 6283.245220000001, \"population\": 96379.0, \"thinness_1_19_years\": 1.4, \"thinness_5_9_years\": 1.3, \"income_composition_of_resources\": 0.904, \"schooling\": 15.8, \"continent\": \"Europe\"}, {\"country\": \"Switzerland\", \"year\": 2013, \"status\": \"Developed\", \"life_expectancy\": 83.0, \"adult_mortality\": 52.0, \"infant_deaths\": 0, \"alcohol\": 9.73, \"percentage_expenditure\": 19099.04506, \"hepatitis_B\": null, \"measles\": 175, \"BMI\": 56.6, \"under_five_deaths\": 0, \"polio\": 96.0, \"total_expenditure\": 11.71, \"diphtheria\": 96.0, \"hiv_aids\": 0.1, \"gdp\": 84658.88768, \"population\": 889346.0, \"thinness_1_19_years\": 0.4, \"thinness_5_9_years\": 0.3, \"income_composition_of_resources\": 0.934, \"schooling\": 15.8, \"continent\": \"Europe\"}, {\"country\": \"Syrian Arab Republic\", \"year\": 2013, \"status\": \"Developing\", \"life_expectancy\": 63.6, \"adult_mortality\": 37.0, \"infant_deaths\": 7, \"alcohol\": 0.01, \"percentage_expenditure\": 0.0, \"hepatitis_B\": 71.0, \"measles\": 740, \"BMI\": 55.2, \"under_five_deaths\": 9, \"polio\": 5.0, \"total_expenditure\": 3.25, \"diphtheria\": 41.0, \"hiv_aids\": 0.1, \"gdp\": null, \"population\": 1989141.0, \"thinness_1_19_years\": 6.3, \"thinness_5_9_years\": 6.1, \"income_composition_of_resources\": 0.635, \"schooling\": 13.0, \"continent\": \"Asia\"}, {\"country\": \"Tajikistan\", \"year\": 2013, \"status\": \"Developing\", \"life_expectancy\": 69.3, \"adult_mortality\": 163.0, \"infant_deaths\": 10, \"alcohol\": 0.01, \"percentage_expenditure\": 1.0419164, \"hepatitis_B\": 96.0, \"measles\": 1, \"BMI\": 39.0, \"under_five_deaths\": 11, \"polio\": 97.0, \"total_expenditure\": 6.75, \"diphtheria\": 96.0, \"hiv_aids\": 0.2, \"gdp\": 14.214412, \"population\": 817789.0, \"thinness_1_19_years\": 3.6, \"thinness_5_9_years\": 3.7, \"income_composition_of_resources\": 0.617, \"schooling\": 11.2, \"continent\": \"Asia\"}, {\"country\": \"Thailand\", \"year\": 2013, \"status\": \"Developing\", \"life_expectancy\": 74.5, \"adult_mortality\": 153.0, \"infant_deaths\": 9, \"alcohol\": 6.5, \"percentage_expenditure\": 788.6873403, \"hepatitis_B\": 99.0, \"measles\": 2641, \"BMI\": 31.3, \"under_five_deaths\": 10, \"polio\": 99.0, \"total_expenditure\": 4.0, \"diphtheria\": 99.0, \"hiv_aids\": 0.1, \"gdp\": 6171.262444, \"population\": 6814365.0, \"thinness_1_19_years\": 7.9, \"thinness_5_9_years\": 7.9, \"income_composition_of_resources\": 0.733, \"schooling\": 13.6, \"continent\": \"Asia\"}, {\"country\": \"North Macedonia\", \"year\": 2013, \"status\": \"Developing\", \"life_expectancy\": 75.3, \"adult_mortality\": 14.0, \"infant_deaths\": 0, \"alcohol\": 1.03, \"percentage_expenditure\": 0.0, \"hepatitis_B\": 97.0, \"measles\": 4, \"BMI\": 59.1, \"under_five_deaths\": 0, \"polio\": 98.0, \"total_expenditure\": 6.7, \"diphtheria\": 98.0, \"hiv_aids\": 0.1, \"gdp\": null, \"population\": null, \"thinness_1_19_years\": 2.2, \"thinness_5_9_years\": 2.2, \"income_composition_of_resources\": 0.741, \"schooling\": 12.9, \"continent\": \"Europe\"}, {\"country\": \"Timor-Leste\", \"year\": 2013, \"status\": \"Developing\", \"life_expectancy\": 67.7, \"adult_mortality\": 158.0, \"infant_deaths\": 2, \"alcohol\": 0.01, \"percentage_expenditure\": 3.3798748439999997, \"hepatitis_B\": 82.0, \"measles\": 4, \"BMI\": 16.6, \"under_five_deaths\": 2, \"polio\": 82.0, \"total_expenditure\": 1.29, \"diphtheria\": 82.0, \"hiv_aids\": 0.1, \"gdp\": 117.765674, \"population\": 1184366.0, \"thinness_1_19_years\": 11.1, \"thinness_5_9_years\": 11.2, \"income_composition_of_resources\": 0.62, \"schooling\": 12.5, \"continent\": \"Asia\"}, {\"country\": \"Togo\", \"year\": 2013, \"status\": \"Developing\", \"life_expectancy\": 59.4, \"adult_mortality\": 287.0, \"infant_deaths\": 14, \"alcohol\": 0.01, \"percentage_expenditure\": 48.73047089, \"hepatitis_B\": 84.0, \"measles\": 564, \"BMI\": 23.1, \"under_five_deaths\": 20, \"polio\": 84.0, \"total_expenditure\": 5.12, \"diphtheria\": 84.0, \"hiv_aids\": 1.5, \"gdp\": 579.43485, \"population\": 742948.0, \"thinness_1_19_years\": 6.8, \"thinness_5_9_years\": 6.6, \"income_composition_of_resources\": 0.47, \"schooling\": 12.0, \"continent\": \"Africa\"}, {\"country\": \"Tonga\", \"year\": 2013, \"status\": \"Developing\", \"life_expectancy\": 73.2, \"adult_mortality\": 137.0, \"infant_deaths\": 0, \"alcohol\": 0.01, \"percentage_expenditure\": 584.9449886, \"hepatitis_B\": 82.0, \"measles\": 0, \"BMI\": 74.3, \"under_five_deaths\": 0, \"polio\": 84.0, \"total_expenditure\": 4.98, \"diphtheria\": 82.0, \"hiv_aids\": 0.1, \"gdp\": 4266.5571740000005, \"population\": 15328.0, \"thinness_1_19_years\": 0.1, \"thinness_5_9_years\": 0.1, \"income_composition_of_resources\": 0.718, \"schooling\": 14.3, \"continent\": \"Oceania\"}, {\"country\": \"Trinidad and Tobago\", \"year\": 2013, \"status\": \"Developing\", \"life_expectancy\": 71.0, \"adult_mortality\": 172.0, \"infant_deaths\": 0, \"alcohol\": 6.71, \"percentage_expenditure\": 167.2657906, \"hepatitis_B\": 92.0, \"measles\": 0, \"BMI\": 45.0, \"under_five_deaths\": 0, \"polio\": 94.0, \"total_expenditure\": 5.98, \"diphtheria\": 92.0, \"hiv_aids\": 0.3, \"gdp\": 1967.83283, \"population\": 1348248.0, \"thinness_1_19_years\": 5.8, \"thinness_5_9_years\": 6.0, \"income_composition_of_resources\": 0.773, \"schooling\": 12.7, \"continent\": \"North America\"}, {\"country\": \"Tunisia\", \"year\": 2013, \"status\": \"Developing\", \"life_expectancy\": 74.9, \"adult_mortality\": 13.0, \"infant_deaths\": 3, \"alcohol\": 1.29, \"percentage_expenditure\": 594.6453102, \"hepatitis_B\": 98.0, \"measles\": 16, \"BMI\": 59.3, \"under_five_deaths\": 3, \"polio\": 98.0, \"total_expenditure\": 7.26, \"diphtheria\": 98.0, \"hiv_aids\": 0.1, \"gdp\": 4199.47253, \"population\": 1114558.0, \"thinness_1_19_years\": 6.4, \"thinness_5_9_years\": 6.3, \"income_composition_of_resources\": 0.72, \"schooling\": 14.7, \"continent\": \"Africa\"}, {\"country\": \"Turkey\", \"year\": 2013, \"status\": \"Developing\", \"life_expectancy\": 75.2, \"adult_mortality\": 19.0, \"infant_deaths\": 17, \"alcohol\": 1.41, \"percentage_expenditure\": 188.14403480000001, \"hepatitis_B\": 97.0, \"measles\": 7405, \"BMI\": 64.5, \"under_five_deaths\": 20, \"polio\": 98.0, \"total_expenditure\": 5.38, \"diphtheria\": 98.0, \"hiv_aids\": 0.1, \"gdp\": 12542.93565, \"population\": 75787333.0, \"thinness_1_19_years\": 4.9, \"thinness_5_9_years\": 4.7, \"income_composition_of_resources\": 0.754, \"schooling\": 14.4, \"continent\": \"Asia\"}, {\"country\": \"Turkmenistan\", \"year\": 2013, \"status\": \"Developing\", \"life_expectancy\": 65.4, \"adult_mortality\": 228.0, \"infant_deaths\": 7, \"alcohol\": 2.93, \"percentage_expenditure\": 63.74811170000001, \"hepatitis_B\": 98.0, \"measles\": 0, \"BMI\": 46.7, \"under_five_deaths\": 8, \"polio\": 98.0, \"total_expenditure\": 2.12, \"diphtheria\": 98.0, \"hiv_aids\": 0.1, \"gdp\": 734.42525, \"population\": 5366277.0, \"thinness_1_19_years\": 3.2, \"thinness_5_9_years\": 3.3, \"income_composition_of_resources\": 0.6779999999999999, \"schooling\": 10.7, \"continent\": \"Asia\"}, {\"country\": \"Tuvalu\", \"year\": 2013, \"status\": \"Developing\", \"life_expectancy\": null, \"adult_mortality\": null, \"infant_deaths\": 0, \"alcohol\": 0.01, \"percentage_expenditure\": 78.28120317, \"hepatitis_B\": 9.0, \"measles\": 0, \"BMI\": 79.3, \"under_five_deaths\": 0, \"polio\": 9.0, \"total_expenditure\": 16.61, \"diphtheria\": 9.0, \"hiv_aids\": 0.1, \"gdp\": 3542.13589, \"population\": 1819.0, \"thinness_1_19_years\": 0.2, \"thinness_5_9_years\": 0.1, \"income_composition_of_resources\": null, \"schooling\": 0.0, \"continent\": \"Oceania\"}, {\"country\": \"Uganda\", \"year\": 2013, \"status\": \"Developing\", \"life_expectancy\": 67.0, \"adult_mortality\": 325.0, \"infant_deaths\": 71, \"alcohol\": 0.01, \"percentage_expenditure\": 90.76144414, \"hepatitis_B\": 78.0, \"measles\": 7878, \"BMI\": 17.6, \"under_five_deaths\": 103, \"polio\": 82.0, \"total_expenditure\": 7.47, \"diphtheria\": 78.0, \"hiv_aids\": 4.0, \"gdp\": 662.492293, \"population\": 37553726.0, \"thinness_1_19_years\": 5.7, \"thinness_5_9_years\": 5.7, \"income_composition_of_resources\": 0.478, \"schooling\": 10.0, \"continent\": \"Africa\"}, {\"country\": \"Ukraine\", \"year\": 2013, \"status\": \"Developing\", \"life_expectancy\": 71.0, \"adult_mortality\": 198.0, \"infant_deaths\": 4, \"alcohol\": 8.44, \"percentage_expenditure\": 52.42529588, \"hepatitis_B\": 46.0, \"measles\": 0, \"BMI\": 6.1, \"under_five_deaths\": 5, \"polio\": 72.0, \"total_expenditure\": 7.67, \"diphtheria\": 76.0, \"hiv_aids\": 0.2, \"gdp\": 429.71554000000003, \"population\": 454896.0, \"thinness_1_19_years\": 2.3, \"thinness_5_9_years\": 2.4, \"income_composition_of_resources\": 0.7440000000000001, \"schooling\": 15.2, \"continent\": \"Europe\"}, {\"country\": \"United Arab Emirates\", \"year\": 2013, \"status\": \"Developing\", \"life_expectancy\": 76.7, \"adult_mortality\": 78.0, \"infant_deaths\": 1, \"alcohol\": 1.82, \"percentage_expenditure\": 377.2009132, \"hepatitis_B\": 98.0, \"measles\": 0, \"BMI\": 6.5, \"under_five_deaths\": 1, \"polio\": 98.0, \"total_expenditure\": 3.49, \"diphtheria\": 98.0, \"hiv_aids\": 0.1, \"gdp\": 4335.64268, \"population\": null, \"thinness_1_19_years\": 5.2, \"thinness_5_9_years\": 5.0, \"income_composition_of_resources\": 0.8290000000000001, \"schooling\": 13.3, \"continent\": \"Asia\"}, {\"country\": \"United Kingdom of Great Britain and Northern Ireland\", \"year\": 2013, \"status\": \"Developed\", \"life_expectancy\": 87.0, \"adult_mortality\": 72.0, \"infant_deaths\": 3, \"alcohol\": 10.32, \"percentage_expenditure\": 0.0, \"hepatitis_B\": null, \"measles\": 1919, \"BMI\": 65.4, \"under_five_deaths\": 4, \"polio\": 95.0, \"total_expenditure\": 9.34, \"diphtheria\": 95.0, \"hiv_aids\": 0.1, \"gdp\": null, \"population\": null, \"thinness_1_19_years\": 0.8, \"thinness_5_9_years\": 0.5, \"income_composition_of_resources\": null, \"schooling\": null, \"continent\": \"Europe\"}, {\"country\": \"United Republic of Tanzania\", \"year\": 2013, \"status\": \"Developing\", \"life_expectancy\": 59.7, \"adult_mortality\": 323.0, \"infant_deaths\": 86, \"alcohol\": 4.2, \"percentage_expenditure\": 0.0, \"hepatitis_B\": 91.0, \"measles\": 185, \"BMI\": 22.5, \"under_five_deaths\": 124, \"polio\": 91.0, \"total_expenditure\": 5.57, \"diphtheria\": 91.0, \"hiv_aids\": 2.1, \"gdp\": null, \"population\": null, \"thinness_1_19_years\": 6.8, \"thinness_5_9_years\": 6.7, \"income_composition_of_resources\": null, \"schooling\": null, \"continent\": \"Africa\"}, {\"country\": \"United States of America\", \"year\": 2013, \"status\": \"Developed\", \"life_expectancy\": 78.9, \"adult_mortality\": 16.0, \"infant_deaths\": 23, \"alcohol\": 8.82, \"percentage_expenditure\": 0.0, \"hepatitis_B\": 91.0, \"measles\": 187, \"BMI\": 68.6, \"under_five_deaths\": 27, \"polio\": 93.0, \"total_expenditure\": 16.9, \"diphtheria\": 94.0, \"hiv_aids\": 0.1, \"gdp\": null, \"population\": null, \"thinness_1_19_years\": 0.7, \"thinness_5_9_years\": 0.6, \"income_composition_of_resources\": null, \"schooling\": null, \"continent\": \"North America\"}, {\"country\": \"Uruguay\", \"year\": 2013, \"status\": \"Developing\", \"life_expectancy\": 76.8, \"adult_mortality\": 117.0, \"infant_deaths\": 0, \"alcohol\": 5.82, \"percentage_expenditure\": 482.80394450000006, \"hepatitis_B\": 94.0, \"measles\": 0, \"BMI\": 62.9, \"under_five_deaths\": 0, \"polio\": 94.0, \"total_expenditure\": 8.68, \"diphtheria\": 94.0, \"hiv_aids\": 0.1, \"gdp\": 16881.2568, \"population\": 3485.0, \"thinness_1_19_years\": 1.5, \"thinness_5_9_years\": 1.4, \"income_composition_of_resources\": 0.7879999999999999, \"schooling\": 15.5, \"continent\": \"South America\"}, {\"country\": \"Uzbekistan\", \"year\": 2013, \"status\": \"Developing\", \"life_expectancy\": 69.1, \"adult_mortality\": 185.0, \"infant_deaths\": 17, \"alcohol\": 0.01, \"percentage_expenditure\": 19.1624696, \"hepatitis_B\": 99.0, \"measles\": 0, \"BMI\": 43.0, \"under_five_deaths\": 19, \"polio\": 99.0, \"total_expenditure\": 6.32, \"diphtheria\": 99.0, \"hiv_aids\": 0.1, \"gdp\": 197.551233, \"population\": 32432.0, \"thinness_1_19_years\": 3.0, \"thinness_5_9_years\": 3.1, \"income_composition_of_resources\": 0.6809999999999999, \"schooling\": 12.0, \"continent\": \"Asia\"}, {\"country\": \"Vanuatu\", \"year\": 2013, \"status\": \"Developing\", \"life_expectancy\": 71.6, \"adult_mortality\": 135.0, \"infant_deaths\": 0, \"alcohol\": 0.01, \"percentage_expenditure\": 447.54564500000004, \"hepatitis_B\": 64.0, \"measles\": 0, \"BMI\": 51.7, \"under_five_deaths\": 0, \"polio\": 65.0, \"total_expenditure\": 3.92, \"diphtheria\": 64.0, \"hiv_aids\": 0.1, \"gdp\": 3167.3435600000003, \"population\": 253142.0, \"thinness_1_19_years\": 1.5, \"thinness_5_9_years\": 1.4, \"income_composition_of_resources\": 0.591, \"schooling\": 10.8, \"continent\": \"Oceania\"}, {\"country\": \"Venezuela, Bolivarian Republic of\", \"year\": 2013, \"status\": \"Developing\", \"life_expectancy\": 73.8, \"adult_mortality\": 159.0, \"infant_deaths\": 9, \"alcohol\": 6.71, \"percentage_expenditure\": 0.0, \"hepatitis_B\": 82.0, \"measles\": 0, \"BMI\": 61.0, \"under_five_deaths\": 10, \"polio\": 82.0, \"total_expenditure\": 4.94, \"diphtheria\": 82.0, \"hiv_aids\": 0.1, \"gdp\": null, \"population\": null, \"thinness_1_19_years\": 1.6, \"thinness_5_9_years\": 1.5, \"income_composition_of_resources\": 0.77, \"schooling\": 14.2, \"continent\": \"South America\"}, {\"country\": \"Viet Nam\", \"year\": 2013, \"status\": \"Developing\", \"life_expectancy\": 75.7, \"adult_mortality\": 129.0, \"infant_deaths\": 28, \"alcohol\": 4.0, \"percentage_expenditure\": 0.0, \"hepatitis_B\": 59.0, \"measles\": 1123, \"BMI\": 16.0, \"under_five_deaths\": 35, \"polio\": 93.0, \"total_expenditure\": 7.17, \"diphtheria\": 59.0, \"hiv_aids\": 0.1, \"gdp\": null, \"population\": null, \"thinness_1_19_years\": 14.3, \"thinness_5_9_years\": 14.9, \"income_composition_of_resources\": 0.6679999999999999, \"schooling\": 12.3, \"continent\": \"Asia\"}, {\"country\": \"Yemen\", \"year\": 2013, \"status\": \"Developing\", \"life_expectancy\": 65.4, \"adult_mortality\": 226.0, \"infant_deaths\": 36, \"alcohol\": 0.04, \"percentage_expenditure\": 0.0, \"hepatitis_B\": 73.0, \"measles\": 400, \"BMI\": 39.6, \"under_five_deaths\": 46, \"polio\": 67.0, \"total_expenditure\": 5.78, \"diphtheria\": 73.0, \"hiv_aids\": 0.1, \"gdp\": null, \"population\": null, \"thinness_1_19_years\": 13.7, \"thinness_5_9_years\": 13.5, \"income_composition_of_resources\": 0.498, \"schooling\": 9.0, \"continent\": \"Asia\"}, {\"country\": \"Zambia\", \"year\": 2013, \"status\": \"Developing\", \"life_expectancy\": 63.0, \"adult_mortality\": 328.0, \"infant_deaths\": 29, \"alcohol\": 2.41, \"percentage_expenditure\": 20.62306285, \"hepatitis_B\": 79.0, \"measles\": 35, \"BMI\": 22.3, \"under_five_deaths\": 42, \"polio\": 74.0, \"total_expenditure\": 4.99, \"diphtheria\": 79.0, \"hiv_aids\": 4.8, \"gdp\": 185.793359, \"population\": 1515321.0, \"thinness_1_19_years\": 6.4, \"thinness_5_9_years\": 6.2, \"income_composition_of_resources\": 0.565, \"schooling\": 12.5, \"continent\": \"Africa\"}, {\"country\": \"Zimbabwe\", \"year\": 2013, \"status\": \"Developing\", \"life_expectancy\": 58.0, \"adult_mortality\": 399.0, \"infant_deaths\": 25, \"alcohol\": 6.39, \"percentage_expenditure\": 10.66670728, \"hepatitis_B\": 95.0, \"measles\": 0, \"BMI\": 3.8, \"under_five_deaths\": 36, \"polio\": 95.0, \"total_expenditure\": 6.88, \"diphtheria\": 95.0, \"hiv_aids\": 6.8, \"gdp\": 111.227396, \"population\": 155456.0, \"thinness_1_19_years\": 6.2, \"thinness_5_9_years\": 6.0, \"income_composition_of_resources\": 0.488, \"schooling\": 10.4, \"continent\": \"Africa\"}]}}, {\"mode\": \"vega-lite\"});\n",
       "</script>"
      ],
      "text/plain": [
       "alt.Chart(...)"
      ]
     },
     "execution_count": 206,
     "metadata": {},
     "output_type": "execute_result"
    }
   ],
   "source": [
    "alt.Chart(\n",
    "    dataset_df.query(\"year == 2013\")\n",
    ").mark_circle().encode(\n",
    "    x=alt.X(\"hiv_aids\"),\n",
    "    y=alt.Y(\"life_expectancy\", title=\"Life Expectancy\"),\n",
    "    color=\"continent\",\n",
    "    size=alt.Size(\"population\", scale=alt.Scale(range=(10, 1000))),\n",
    "    tooltip=\"country\",\n",
    ")"
   ]
  }
 ],
 "metadata": {
  "kernelspec": {
   "display_name": "Python [conda env:dsci531env]",
   "language": "python",
   "name": "conda-env-dsci531env-py"
  },
  "language_info": {
   "codemirror_mode": {
    "name": "ipython",
    "version": 3
   },
   "file_extension": ".py",
   "mimetype": "text/x-python",
   "name": "python",
   "nbconvert_exporter": "python",
   "pygments_lexer": "ipython3",
   "version": "3.8.6"
  }
 },
 "nbformat": 4,
 "nbformat_minor": 4
}
